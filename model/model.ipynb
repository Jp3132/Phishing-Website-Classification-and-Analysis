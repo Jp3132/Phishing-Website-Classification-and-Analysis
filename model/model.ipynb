{
 "cells": [
  {
   "cell_type": "code",
   "execution_count": 657,
   "id": "3d2e0f8b",
   "metadata": {},
   "outputs": [],
   "source": [
    "import pandas as pd\n",
    "import numpy as np\n",
    "import matplotlib.pyplot as plt\n",
    "import seaborn as sns\n",
    "from pandas.plotting import scatter_matrix\n",
    "from sklearn.preprocessing import OrdinalEncoder\n",
    "from sklearn.model_selection import StratifiedShuffleSplit,train_test_split,cross_val_predict,GridSearchCV\n",
    "from sklearn.base import BaseEstimator, TransformerMixin\n",
    "from sklearn.preprocessing import MinMaxScaler\n",
    "from sklearn.impute import SimpleImputer\n",
    "from sklearn.pipeline import Pipeline\n",
    "from sklearn.linear_model import LogisticRegression,SGDClassifier\n",
    "from sklearn.tree import DecisionTreeClassifier\n",
    "from sklearn.ensemble import RandomForestClassifier\n",
    "from sklearn.naive_bayes import GaussianNB\n",
    "from sklearn.svm import SVC\n",
    "from sklearn.metrics import confusion_matrix,precision_score,recall_score,f1_score,roc_curve,precision_recall_curve,roc_auc_score"
   ]
  },
  {
   "cell_type": "code",
   "execution_count": 559,
   "id": "1a505f4b",
   "metadata": {},
   "outputs": [
    {
     "data": {
      "text/html": [
       "<div>\n",
       "<style scoped>\n",
       "    .dataframe tbody tr th:only-of-type {\n",
       "        vertical-align: middle;\n",
       "    }\n",
       "\n",
       "    .dataframe tbody tr th {\n",
       "        vertical-align: top;\n",
       "    }\n",
       "\n",
       "    .dataframe thead th {\n",
       "        text-align: right;\n",
       "    }\n",
       "</style>\n",
       "<table border=\"1\" class=\"dataframe\">\n",
       "  <thead>\n",
       "    <tr style=\"text-align: right;\">\n",
       "      <th></th>\n",
       "      <th>url</th>\n",
       "      <th>length_url</th>\n",
       "      <th>length_hostname</th>\n",
       "      <th>ip</th>\n",
       "      <th>nb_dots</th>\n",
       "      <th>nb_hyphens</th>\n",
       "      <th>nb_at</th>\n",
       "      <th>nb_qm</th>\n",
       "      <th>nb_and</th>\n",
       "      <th>nb_or</th>\n",
       "      <th>...</th>\n",
       "      <th>domain_in_title</th>\n",
       "      <th>domain_with_copyright</th>\n",
       "      <th>whois_registered_domain</th>\n",
       "      <th>domain_registration_length</th>\n",
       "      <th>domain_age</th>\n",
       "      <th>web_traffic</th>\n",
       "      <th>dns_record</th>\n",
       "      <th>google_index</th>\n",
       "      <th>page_rank</th>\n",
       "      <th>status</th>\n",
       "    </tr>\n",
       "  </thead>\n",
       "  <tbody>\n",
       "    <tr>\n",
       "      <th>0</th>\n",
       "      <td>http://www.crestonwood.com/router.php</td>\n",
       "      <td>37</td>\n",
       "      <td>19</td>\n",
       "      <td>0</td>\n",
       "      <td>3</td>\n",
       "      <td>0</td>\n",
       "      <td>0</td>\n",
       "      <td>0</td>\n",
       "      <td>0</td>\n",
       "      <td>0</td>\n",
       "      <td>...</td>\n",
       "      <td>0</td>\n",
       "      <td>1</td>\n",
       "      <td>0</td>\n",
       "      <td>45</td>\n",
       "      <td>-1</td>\n",
       "      <td>0</td>\n",
       "      <td>1</td>\n",
       "      <td>1</td>\n",
       "      <td>4</td>\n",
       "      <td>legitimate</td>\n",
       "    </tr>\n",
       "    <tr>\n",
       "      <th>1</th>\n",
       "      <td>http://shadetreetechnology.com/V4/validation/a...</td>\n",
       "      <td>77</td>\n",
       "      <td>23</td>\n",
       "      <td>1</td>\n",
       "      <td>1</td>\n",
       "      <td>0</td>\n",
       "      <td>0</td>\n",
       "      <td>0</td>\n",
       "      <td>0</td>\n",
       "      <td>0</td>\n",
       "      <td>...</td>\n",
       "      <td>1</td>\n",
       "      <td>0</td>\n",
       "      <td>0</td>\n",
       "      <td>77</td>\n",
       "      <td>5767</td>\n",
       "      <td>0</td>\n",
       "      <td>0</td>\n",
       "      <td>1</td>\n",
       "      <td>2</td>\n",
       "      <td>phishing</td>\n",
       "    </tr>\n",
       "    <tr>\n",
       "      <th>2</th>\n",
       "      <td>https://support-appleld.com.secureupdate.duila...</td>\n",
       "      <td>126</td>\n",
       "      <td>50</td>\n",
       "      <td>1</td>\n",
       "      <td>4</td>\n",
       "      <td>1</td>\n",
       "      <td>0</td>\n",
       "      <td>1</td>\n",
       "      <td>2</td>\n",
       "      <td>0</td>\n",
       "      <td>...</td>\n",
       "      <td>1</td>\n",
       "      <td>0</td>\n",
       "      <td>0</td>\n",
       "      <td>14</td>\n",
       "      <td>4004</td>\n",
       "      <td>5828815</td>\n",
       "      <td>0</td>\n",
       "      <td>1</td>\n",
       "      <td>0</td>\n",
       "      <td>phishing</td>\n",
       "    </tr>\n",
       "    <tr>\n",
       "      <th>3</th>\n",
       "      <td>http://rgipt.ac.in</td>\n",
       "      <td>18</td>\n",
       "      <td>11</td>\n",
       "      <td>0</td>\n",
       "      <td>2</td>\n",
       "      <td>0</td>\n",
       "      <td>0</td>\n",
       "      <td>0</td>\n",
       "      <td>0</td>\n",
       "      <td>0</td>\n",
       "      <td>...</td>\n",
       "      <td>1</td>\n",
       "      <td>0</td>\n",
       "      <td>0</td>\n",
       "      <td>62</td>\n",
       "      <td>-1</td>\n",
       "      <td>107721</td>\n",
       "      <td>0</td>\n",
       "      <td>0</td>\n",
       "      <td>3</td>\n",
       "      <td>legitimate</td>\n",
       "    </tr>\n",
       "    <tr>\n",
       "      <th>4</th>\n",
       "      <td>http://www.iracing.com/tracks/gateway-motorspo...</td>\n",
       "      <td>55</td>\n",
       "      <td>15</td>\n",
       "      <td>0</td>\n",
       "      <td>2</td>\n",
       "      <td>2</td>\n",
       "      <td>0</td>\n",
       "      <td>0</td>\n",
       "      <td>0</td>\n",
       "      <td>0</td>\n",
       "      <td>...</td>\n",
       "      <td>0</td>\n",
       "      <td>1</td>\n",
       "      <td>0</td>\n",
       "      <td>224</td>\n",
       "      <td>8175</td>\n",
       "      <td>8725</td>\n",
       "      <td>0</td>\n",
       "      <td>0</td>\n",
       "      <td>6</td>\n",
       "      <td>legitimate</td>\n",
       "    </tr>\n",
       "    <tr>\n",
       "      <th>...</th>\n",
       "      <td>...</td>\n",
       "      <td>...</td>\n",
       "      <td>...</td>\n",
       "      <td>...</td>\n",
       "      <td>...</td>\n",
       "      <td>...</td>\n",
       "      <td>...</td>\n",
       "      <td>...</td>\n",
       "      <td>...</td>\n",
       "      <td>...</td>\n",
       "      <td>...</td>\n",
       "      <td>...</td>\n",
       "      <td>...</td>\n",
       "      <td>...</td>\n",
       "      <td>...</td>\n",
       "      <td>...</td>\n",
       "      <td>...</td>\n",
       "      <td>...</td>\n",
       "      <td>...</td>\n",
       "      <td>...</td>\n",
       "      <td>...</td>\n",
       "    </tr>\n",
       "    <tr>\n",
       "      <th>11425</th>\n",
       "      <td>http://www.fontspace.com/category/blackletter</td>\n",
       "      <td>45</td>\n",
       "      <td>17</td>\n",
       "      <td>0</td>\n",
       "      <td>2</td>\n",
       "      <td>0</td>\n",
       "      <td>0</td>\n",
       "      <td>0</td>\n",
       "      <td>0</td>\n",
       "      <td>0</td>\n",
       "      <td>...</td>\n",
       "      <td>0</td>\n",
       "      <td>0</td>\n",
       "      <td>0</td>\n",
       "      <td>448</td>\n",
       "      <td>5396</td>\n",
       "      <td>3980</td>\n",
       "      <td>0</td>\n",
       "      <td>0</td>\n",
       "      <td>6</td>\n",
       "      <td>legitimate</td>\n",
       "    </tr>\n",
       "    <tr>\n",
       "      <th>11426</th>\n",
       "      <td>http://www.budgetbots.com/server.php/Server%20...</td>\n",
       "      <td>84</td>\n",
       "      <td>18</td>\n",
       "      <td>0</td>\n",
       "      <td>5</td>\n",
       "      <td>0</td>\n",
       "      <td>1</td>\n",
       "      <td>1</td>\n",
       "      <td>0</td>\n",
       "      <td>0</td>\n",
       "      <td>...</td>\n",
       "      <td>1</td>\n",
       "      <td>0</td>\n",
       "      <td>0</td>\n",
       "      <td>211</td>\n",
       "      <td>6728</td>\n",
       "      <td>0</td>\n",
       "      <td>0</td>\n",
       "      <td>1</td>\n",
       "      <td>0</td>\n",
       "      <td>phishing</td>\n",
       "    </tr>\n",
       "    <tr>\n",
       "      <th>11427</th>\n",
       "      <td>https://www.facebook.com/Interactive-Televisio...</td>\n",
       "      <td>105</td>\n",
       "      <td>16</td>\n",
       "      <td>1</td>\n",
       "      <td>2</td>\n",
       "      <td>6</td>\n",
       "      <td>0</td>\n",
       "      <td>1</td>\n",
       "      <td>0</td>\n",
       "      <td>0</td>\n",
       "      <td>...</td>\n",
       "      <td>0</td>\n",
       "      <td>0</td>\n",
       "      <td>0</td>\n",
       "      <td>2809</td>\n",
       "      <td>8515</td>\n",
       "      <td>8</td>\n",
       "      <td>0</td>\n",
       "      <td>1</td>\n",
       "      <td>10</td>\n",
       "      <td>legitimate</td>\n",
       "    </tr>\n",
       "    <tr>\n",
       "      <th>11428</th>\n",
       "      <td>http://www.mypublicdomainpictures.com/</td>\n",
       "      <td>38</td>\n",
       "      <td>30</td>\n",
       "      <td>0</td>\n",
       "      <td>2</td>\n",
       "      <td>0</td>\n",
       "      <td>0</td>\n",
       "      <td>0</td>\n",
       "      <td>0</td>\n",
       "      <td>0</td>\n",
       "      <td>...</td>\n",
       "      <td>1</td>\n",
       "      <td>0</td>\n",
       "      <td>0</td>\n",
       "      <td>85</td>\n",
       "      <td>2836</td>\n",
       "      <td>2455493</td>\n",
       "      <td>0</td>\n",
       "      <td>0</td>\n",
       "      <td>4</td>\n",
       "      <td>legitimate</td>\n",
       "    </tr>\n",
       "    <tr>\n",
       "      <th>11429</th>\n",
       "      <td>http://174.139.46.123/ap/signin?openid.pape.ma...</td>\n",
       "      <td>477</td>\n",
       "      <td>14</td>\n",
       "      <td>1</td>\n",
       "      <td>24</td>\n",
       "      <td>0</td>\n",
       "      <td>1</td>\n",
       "      <td>1</td>\n",
       "      <td>9</td>\n",
       "      <td>0</td>\n",
       "      <td>...</td>\n",
       "      <td>1</td>\n",
       "      <td>1</td>\n",
       "      <td>1</td>\n",
       "      <td>0</td>\n",
       "      <td>-1</td>\n",
       "      <td>0</td>\n",
       "      <td>1</td>\n",
       "      <td>1</td>\n",
       "      <td>0</td>\n",
       "      <td>phishing</td>\n",
       "    </tr>\n",
       "  </tbody>\n",
       "</table>\n",
       "<p>11430 rows × 89 columns</p>\n",
       "</div>"
      ],
      "text/plain": [
       "                                                     url  length_url  \\\n",
       "0                  http://www.crestonwood.com/router.php          37   \n",
       "1      http://shadetreetechnology.com/V4/validation/a...          77   \n",
       "2      https://support-appleld.com.secureupdate.duila...         126   \n",
       "3                                     http://rgipt.ac.in          18   \n",
       "4      http://www.iracing.com/tracks/gateway-motorspo...          55   \n",
       "...                                                  ...         ...   \n",
       "11425      http://www.fontspace.com/category/blackletter          45   \n",
       "11426  http://www.budgetbots.com/server.php/Server%20...          84   \n",
       "11427  https://www.facebook.com/Interactive-Televisio...         105   \n",
       "11428             http://www.mypublicdomainpictures.com/          38   \n",
       "11429  http://174.139.46.123/ap/signin?openid.pape.ma...         477   \n",
       "\n",
       "       length_hostname  ip  nb_dots  nb_hyphens  nb_at  nb_qm  nb_and  nb_or  \\\n",
       "0                   19   0        3           0      0      0       0      0   \n",
       "1                   23   1        1           0      0      0       0      0   \n",
       "2                   50   1        4           1      0      1       2      0   \n",
       "3                   11   0        2           0      0      0       0      0   \n",
       "4                   15   0        2           2      0      0       0      0   \n",
       "...                ...  ..      ...         ...    ...    ...     ...    ...   \n",
       "11425               17   0        2           0      0      0       0      0   \n",
       "11426               18   0        5           0      1      1       0      0   \n",
       "11427               16   1        2           6      0      1       0      0   \n",
       "11428               30   0        2           0      0      0       0      0   \n",
       "11429               14   1       24           0      1      1       9      0   \n",
       "\n",
       "       ...  domain_in_title  domain_with_copyright  whois_registered_domain  \\\n",
       "0      ...                0                      1                        0   \n",
       "1      ...                1                      0                        0   \n",
       "2      ...                1                      0                        0   \n",
       "3      ...                1                      0                        0   \n",
       "4      ...                0                      1                        0   \n",
       "...    ...              ...                    ...                      ...   \n",
       "11425  ...                0                      0                        0   \n",
       "11426  ...                1                      0                        0   \n",
       "11427  ...                0                      0                        0   \n",
       "11428  ...                1                      0                        0   \n",
       "11429  ...                1                      1                        1   \n",
       "\n",
       "       domain_registration_length  domain_age  web_traffic  dns_record  \\\n",
       "0                              45          -1            0           1   \n",
       "1                              77        5767            0           0   \n",
       "2                              14        4004      5828815           0   \n",
       "3                              62          -1       107721           0   \n",
       "4                             224        8175         8725           0   \n",
       "...                           ...         ...          ...         ...   \n",
       "11425                         448        5396         3980           0   \n",
       "11426                         211        6728            0           0   \n",
       "11427                        2809        8515            8           0   \n",
       "11428                          85        2836      2455493           0   \n",
       "11429                           0          -1            0           1   \n",
       "\n",
       "       google_index  page_rank      status  \n",
       "0                 1          4  legitimate  \n",
       "1                 1          2    phishing  \n",
       "2                 1          0    phishing  \n",
       "3                 0          3  legitimate  \n",
       "4                 0          6  legitimate  \n",
       "...             ...        ...         ...  \n",
       "11425             0          6  legitimate  \n",
       "11426             1          0    phishing  \n",
       "11427             1         10  legitimate  \n",
       "11428             0          4  legitimate  \n",
       "11429             1          0    phishing  \n",
       "\n",
       "[11430 rows x 89 columns]"
      ]
     },
     "execution_count": 559,
     "metadata": {},
     "output_type": "execute_result"
    }
   ],
   "source": [
    "data = pd.read_csv(r\"../dataset/dataset_phishing.csv\")\n",
    "data"
   ]
  },
  {
   "cell_type": "code",
   "execution_count": 560,
   "id": "30d56341",
   "metadata": {},
   "outputs": [
    {
     "name": "stdout",
     "output_type": "stream",
     "text": [
      "<class 'pandas.core.frame.DataFrame'>\n",
      "RangeIndex: 11430 entries, 0 to 11429\n",
      "Data columns (total 89 columns):\n",
      " #   Column                      Non-Null Count  Dtype  \n",
      "---  ------                      --------------  -----  \n",
      " 0   url                         11430 non-null  object \n",
      " 1   length_url                  11430 non-null  int64  \n",
      " 2   length_hostname             11430 non-null  int64  \n",
      " 3   ip                          11430 non-null  int64  \n",
      " 4   nb_dots                     11430 non-null  int64  \n",
      " 5   nb_hyphens                  11430 non-null  int64  \n",
      " 6   nb_at                       11430 non-null  int64  \n",
      " 7   nb_qm                       11430 non-null  int64  \n",
      " 8   nb_and                      11430 non-null  int64  \n",
      " 9   nb_or                       11430 non-null  int64  \n",
      " 10  nb_eq                       11430 non-null  int64  \n",
      " 11  nb_underscore               11430 non-null  int64  \n",
      " 12  nb_tilde                    11430 non-null  int64  \n",
      " 13  nb_percent                  11430 non-null  int64  \n",
      " 14  nb_slash                    11430 non-null  int64  \n",
      " 15  nb_star                     11430 non-null  int64  \n",
      " 16  nb_colon                    11430 non-null  int64  \n",
      " 17  nb_comma                    11430 non-null  int64  \n",
      " 18  nb_semicolumn               11430 non-null  int64  \n",
      " 19  nb_dollar                   11430 non-null  int64  \n",
      " 20  nb_space                    11430 non-null  int64  \n",
      " 21  nb_www                      11430 non-null  int64  \n",
      " 22  nb_com                      11430 non-null  int64  \n",
      " 23  nb_dslash                   11430 non-null  int64  \n",
      " 24  http_in_path                11430 non-null  int64  \n",
      " 25  https_token                 11430 non-null  int64  \n",
      " 26  ratio_digits_url            11430 non-null  float64\n",
      " 27  ratio_digits_host           11430 non-null  float64\n",
      " 28  punycode                    11430 non-null  int64  \n",
      " 29  port                        11430 non-null  int64  \n",
      " 30  tld_in_path                 11430 non-null  int64  \n",
      " 31  tld_in_subdomain            11430 non-null  int64  \n",
      " 32  abnormal_subdomain          11430 non-null  int64  \n",
      " 33  nb_subdomains               11430 non-null  int64  \n",
      " 34  prefix_suffix               11430 non-null  int64  \n",
      " 35  random_domain               11430 non-null  int64  \n",
      " 36  shortening_service          11430 non-null  int64  \n",
      " 37  path_extension              11430 non-null  int64  \n",
      " 38  nb_redirection              11430 non-null  int64  \n",
      " 39  nb_external_redirection     11430 non-null  int64  \n",
      " 40  length_words_raw            11430 non-null  int64  \n",
      " 41  char_repeat                 11430 non-null  int64  \n",
      " 42  shortest_words_raw          11430 non-null  int64  \n",
      " 43  shortest_word_host          11430 non-null  int64  \n",
      " 44  shortest_word_path          11430 non-null  int64  \n",
      " 45  longest_words_raw           11430 non-null  int64  \n",
      " 46  longest_word_host           11430 non-null  int64  \n",
      " 47  longest_word_path           11430 non-null  int64  \n",
      " 48  avg_words_raw               11430 non-null  float64\n",
      " 49  avg_word_host               11430 non-null  float64\n",
      " 50  avg_word_path               11430 non-null  float64\n",
      " 51  phish_hints                 11430 non-null  int64  \n",
      " 52  domain_in_brand             11430 non-null  int64  \n",
      " 53  brand_in_subdomain          11430 non-null  int64  \n",
      " 54  brand_in_path               11430 non-null  int64  \n",
      " 55  suspecious_tld              11430 non-null  int64  \n",
      " 56  statistical_report          11430 non-null  int64  \n",
      " 57  nb_hyperlinks               11430 non-null  int64  \n",
      " 58  ratio_intHyperlinks         11430 non-null  float64\n",
      " 59  ratio_extHyperlinks         11430 non-null  float64\n",
      " 60  ratio_nullHyperlinks        11430 non-null  int64  \n",
      " 61  nb_extCSS                   11430 non-null  int64  \n",
      " 62  ratio_intRedirection        11430 non-null  int64  \n",
      " 63  ratio_extRedirection        11430 non-null  float64\n",
      " 64  ratio_intErrors             11430 non-null  int64  \n",
      " 65  ratio_extErrors             11430 non-null  float64\n",
      " 66  login_form                  11430 non-null  int64  \n",
      " 67  external_favicon            11430 non-null  int64  \n",
      " 68  links_in_tags               11430 non-null  float64\n",
      " 69  submit_email                11430 non-null  int64  \n",
      " 70  ratio_intMedia              11430 non-null  float64\n",
      " 71  ratio_extMedia              11430 non-null  float64\n",
      " 72  sfh                         11430 non-null  int64  \n",
      " 73  iframe                      11430 non-null  int64  \n",
      " 74  popup_window                11430 non-null  int64  \n",
      " 75  safe_anchor                 11430 non-null  float64\n",
      " 76  onmouseover                 11430 non-null  int64  \n",
      " 77  right_clic                  11430 non-null  int64  \n",
      " 78  empty_title                 11430 non-null  int64  \n",
      " 79  domain_in_title             11430 non-null  int64  \n",
      " 80  domain_with_copyright       11430 non-null  int64  \n",
      " 81  whois_registered_domain     11430 non-null  int64  \n",
      " 82  domain_registration_length  11430 non-null  int64  \n",
      " 83  domain_age                  11430 non-null  int64  \n",
      " 84  web_traffic                 11430 non-null  int64  \n",
      " 85  dns_record                  11430 non-null  int64  \n",
      " 86  google_index                11430 non-null  int64  \n",
      " 87  page_rank                   11430 non-null  int64  \n",
      " 88  status                      11430 non-null  object \n",
      "dtypes: float64(13), int64(74), object(2)\n",
      "memory usage: 7.8+ MB\n"
     ]
    }
   ],
   "source": [
    "data.info()"
   ]
  },
  {
   "cell_type": "code",
   "execution_count": 561,
   "id": "b35eaca4",
   "metadata": {},
   "outputs": [
    {
     "data": {
      "text/html": [
       "<div>\n",
       "<style scoped>\n",
       "    .dataframe tbody tr th:only-of-type {\n",
       "        vertical-align: middle;\n",
       "    }\n",
       "\n",
       "    .dataframe tbody tr th {\n",
       "        vertical-align: top;\n",
       "    }\n",
       "\n",
       "    .dataframe thead th {\n",
       "        text-align: right;\n",
       "    }\n",
       "</style>\n",
       "<table border=\"1\" class=\"dataframe\">\n",
       "  <thead>\n",
       "    <tr style=\"text-align: right;\">\n",
       "      <th></th>\n",
       "      <th>length_url</th>\n",
       "      <th>length_hostname</th>\n",
       "      <th>ip</th>\n",
       "      <th>nb_dots</th>\n",
       "      <th>nb_hyphens</th>\n",
       "      <th>nb_at</th>\n",
       "      <th>nb_qm</th>\n",
       "      <th>nb_and</th>\n",
       "      <th>nb_or</th>\n",
       "      <th>nb_eq</th>\n",
       "      <th>...</th>\n",
       "      <th>empty_title</th>\n",
       "      <th>domain_in_title</th>\n",
       "      <th>domain_with_copyright</th>\n",
       "      <th>whois_registered_domain</th>\n",
       "      <th>domain_registration_length</th>\n",
       "      <th>domain_age</th>\n",
       "      <th>web_traffic</th>\n",
       "      <th>dns_record</th>\n",
       "      <th>google_index</th>\n",
       "      <th>page_rank</th>\n",
       "    </tr>\n",
       "  </thead>\n",
       "  <tbody>\n",
       "    <tr>\n",
       "      <th>count</th>\n",
       "      <td>11430.000000</td>\n",
       "      <td>11430.000000</td>\n",
       "      <td>11430.000000</td>\n",
       "      <td>11430.000000</td>\n",
       "      <td>11430.000000</td>\n",
       "      <td>11430.000000</td>\n",
       "      <td>11430.000000</td>\n",
       "      <td>11430.000000</td>\n",
       "      <td>11430.0</td>\n",
       "      <td>11430.000000</td>\n",
       "      <td>...</td>\n",
       "      <td>11430.000000</td>\n",
       "      <td>11430.000000</td>\n",
       "      <td>11430.000000</td>\n",
       "      <td>11430.000000</td>\n",
       "      <td>11430.000000</td>\n",
       "      <td>11430.000000</td>\n",
       "      <td>1.143000e+04</td>\n",
       "      <td>11430.000000</td>\n",
       "      <td>11430.000000</td>\n",
       "      <td>11430.000000</td>\n",
       "    </tr>\n",
       "    <tr>\n",
       "      <th>mean</th>\n",
       "      <td>61.126684</td>\n",
       "      <td>21.090289</td>\n",
       "      <td>0.150569</td>\n",
       "      <td>2.480752</td>\n",
       "      <td>0.997550</td>\n",
       "      <td>0.022222</td>\n",
       "      <td>0.141207</td>\n",
       "      <td>0.162292</td>\n",
       "      <td>0.0</td>\n",
       "      <td>0.293176</td>\n",
       "      <td>...</td>\n",
       "      <td>0.124759</td>\n",
       "      <td>0.775853</td>\n",
       "      <td>0.439545</td>\n",
       "      <td>0.072878</td>\n",
       "      <td>492.532196</td>\n",
       "      <td>4062.543745</td>\n",
       "      <td>8.567566e+05</td>\n",
       "      <td>0.020122</td>\n",
       "      <td>0.533946</td>\n",
       "      <td>3.185739</td>\n",
       "    </tr>\n",
       "    <tr>\n",
       "      <th>std</th>\n",
       "      <td>55.297318</td>\n",
       "      <td>10.777171</td>\n",
       "      <td>0.357644</td>\n",
       "      <td>1.369686</td>\n",
       "      <td>2.087087</td>\n",
       "      <td>0.155500</td>\n",
       "      <td>0.364456</td>\n",
       "      <td>0.821337</td>\n",
       "      <td>0.0</td>\n",
       "      <td>0.998317</td>\n",
       "      <td>...</td>\n",
       "      <td>0.330460</td>\n",
       "      <td>0.417038</td>\n",
       "      <td>0.496353</td>\n",
       "      <td>0.259948</td>\n",
       "      <td>814.769415</td>\n",
       "      <td>3107.784600</td>\n",
       "      <td>1.995606e+06</td>\n",
       "      <td>0.140425</td>\n",
       "      <td>0.498868</td>\n",
       "      <td>2.536955</td>\n",
       "    </tr>\n",
       "    <tr>\n",
       "      <th>min</th>\n",
       "      <td>12.000000</td>\n",
       "      <td>4.000000</td>\n",
       "      <td>0.000000</td>\n",
       "      <td>1.000000</td>\n",
       "      <td>0.000000</td>\n",
       "      <td>0.000000</td>\n",
       "      <td>0.000000</td>\n",
       "      <td>0.000000</td>\n",
       "      <td>0.0</td>\n",
       "      <td>0.000000</td>\n",
       "      <td>...</td>\n",
       "      <td>0.000000</td>\n",
       "      <td>0.000000</td>\n",
       "      <td>0.000000</td>\n",
       "      <td>0.000000</td>\n",
       "      <td>-1.000000</td>\n",
       "      <td>-12.000000</td>\n",
       "      <td>0.000000e+00</td>\n",
       "      <td>0.000000</td>\n",
       "      <td>0.000000</td>\n",
       "      <td>0.000000</td>\n",
       "    </tr>\n",
       "    <tr>\n",
       "      <th>25%</th>\n",
       "      <td>33.000000</td>\n",
       "      <td>15.000000</td>\n",
       "      <td>0.000000</td>\n",
       "      <td>2.000000</td>\n",
       "      <td>0.000000</td>\n",
       "      <td>0.000000</td>\n",
       "      <td>0.000000</td>\n",
       "      <td>0.000000</td>\n",
       "      <td>0.0</td>\n",
       "      <td>0.000000</td>\n",
       "      <td>...</td>\n",
       "      <td>0.000000</td>\n",
       "      <td>1.000000</td>\n",
       "      <td>0.000000</td>\n",
       "      <td>0.000000</td>\n",
       "      <td>84.000000</td>\n",
       "      <td>972.250000</td>\n",
       "      <td>0.000000e+00</td>\n",
       "      <td>0.000000</td>\n",
       "      <td>0.000000</td>\n",
       "      <td>1.000000</td>\n",
       "    </tr>\n",
       "    <tr>\n",
       "      <th>50%</th>\n",
       "      <td>47.000000</td>\n",
       "      <td>19.000000</td>\n",
       "      <td>0.000000</td>\n",
       "      <td>2.000000</td>\n",
       "      <td>0.000000</td>\n",
       "      <td>0.000000</td>\n",
       "      <td>0.000000</td>\n",
       "      <td>0.000000</td>\n",
       "      <td>0.0</td>\n",
       "      <td>0.000000</td>\n",
       "      <td>...</td>\n",
       "      <td>0.000000</td>\n",
       "      <td>1.000000</td>\n",
       "      <td>0.000000</td>\n",
       "      <td>0.000000</td>\n",
       "      <td>242.000000</td>\n",
       "      <td>3993.000000</td>\n",
       "      <td>1.651000e+03</td>\n",
       "      <td>0.000000</td>\n",
       "      <td>1.000000</td>\n",
       "      <td>3.000000</td>\n",
       "    </tr>\n",
       "    <tr>\n",
       "      <th>75%</th>\n",
       "      <td>71.000000</td>\n",
       "      <td>24.000000</td>\n",
       "      <td>0.000000</td>\n",
       "      <td>3.000000</td>\n",
       "      <td>1.000000</td>\n",
       "      <td>0.000000</td>\n",
       "      <td>0.000000</td>\n",
       "      <td>0.000000</td>\n",
       "      <td>0.0</td>\n",
       "      <td>0.000000</td>\n",
       "      <td>...</td>\n",
       "      <td>0.000000</td>\n",
       "      <td>1.000000</td>\n",
       "      <td>1.000000</td>\n",
       "      <td>0.000000</td>\n",
       "      <td>449.000000</td>\n",
       "      <td>7026.750000</td>\n",
       "      <td>3.738455e+05</td>\n",
       "      <td>0.000000</td>\n",
       "      <td>1.000000</td>\n",
       "      <td>5.000000</td>\n",
       "    </tr>\n",
       "    <tr>\n",
       "      <th>max</th>\n",
       "      <td>1641.000000</td>\n",
       "      <td>214.000000</td>\n",
       "      <td>1.000000</td>\n",
       "      <td>24.000000</td>\n",
       "      <td>43.000000</td>\n",
       "      <td>4.000000</td>\n",
       "      <td>3.000000</td>\n",
       "      <td>19.000000</td>\n",
       "      <td>0.0</td>\n",
       "      <td>19.000000</td>\n",
       "      <td>...</td>\n",
       "      <td>1.000000</td>\n",
       "      <td>1.000000</td>\n",
       "      <td>1.000000</td>\n",
       "      <td>1.000000</td>\n",
       "      <td>29829.000000</td>\n",
       "      <td>12874.000000</td>\n",
       "      <td>1.076799e+07</td>\n",
       "      <td>1.000000</td>\n",
       "      <td>1.000000</td>\n",
       "      <td>10.000000</td>\n",
       "    </tr>\n",
       "  </tbody>\n",
       "</table>\n",
       "<p>8 rows × 87 columns</p>\n",
       "</div>"
      ],
      "text/plain": [
       "         length_url  length_hostname            ip       nb_dots  \\\n",
       "count  11430.000000     11430.000000  11430.000000  11430.000000   \n",
       "mean      61.126684        21.090289      0.150569      2.480752   \n",
       "std       55.297318        10.777171      0.357644      1.369686   \n",
       "min       12.000000         4.000000      0.000000      1.000000   \n",
       "25%       33.000000        15.000000      0.000000      2.000000   \n",
       "50%       47.000000        19.000000      0.000000      2.000000   \n",
       "75%       71.000000        24.000000      0.000000      3.000000   \n",
       "max     1641.000000       214.000000      1.000000     24.000000   \n",
       "\n",
       "         nb_hyphens         nb_at         nb_qm        nb_and    nb_or  \\\n",
       "count  11430.000000  11430.000000  11430.000000  11430.000000  11430.0   \n",
       "mean       0.997550      0.022222      0.141207      0.162292      0.0   \n",
       "std        2.087087      0.155500      0.364456      0.821337      0.0   \n",
       "min        0.000000      0.000000      0.000000      0.000000      0.0   \n",
       "25%        0.000000      0.000000      0.000000      0.000000      0.0   \n",
       "50%        0.000000      0.000000      0.000000      0.000000      0.0   \n",
       "75%        1.000000      0.000000      0.000000      0.000000      0.0   \n",
       "max       43.000000      4.000000      3.000000     19.000000      0.0   \n",
       "\n",
       "              nb_eq  ...   empty_title  domain_in_title  \\\n",
       "count  11430.000000  ...  11430.000000     11430.000000   \n",
       "mean       0.293176  ...      0.124759         0.775853   \n",
       "std        0.998317  ...      0.330460         0.417038   \n",
       "min        0.000000  ...      0.000000         0.000000   \n",
       "25%        0.000000  ...      0.000000         1.000000   \n",
       "50%        0.000000  ...      0.000000         1.000000   \n",
       "75%        0.000000  ...      0.000000         1.000000   \n",
       "max       19.000000  ...      1.000000         1.000000   \n",
       "\n",
       "       domain_with_copyright  whois_registered_domain  \\\n",
       "count           11430.000000             11430.000000   \n",
       "mean                0.439545                 0.072878   \n",
       "std                 0.496353                 0.259948   \n",
       "min                 0.000000                 0.000000   \n",
       "25%                 0.000000                 0.000000   \n",
       "50%                 0.000000                 0.000000   \n",
       "75%                 1.000000                 0.000000   \n",
       "max                 1.000000                 1.000000   \n",
       "\n",
       "       domain_registration_length    domain_age   web_traffic    dns_record  \\\n",
       "count                11430.000000  11430.000000  1.143000e+04  11430.000000   \n",
       "mean                   492.532196   4062.543745  8.567566e+05      0.020122   \n",
       "std                    814.769415   3107.784600  1.995606e+06      0.140425   \n",
       "min                     -1.000000    -12.000000  0.000000e+00      0.000000   \n",
       "25%                     84.000000    972.250000  0.000000e+00      0.000000   \n",
       "50%                    242.000000   3993.000000  1.651000e+03      0.000000   \n",
       "75%                    449.000000   7026.750000  3.738455e+05      0.000000   \n",
       "max                  29829.000000  12874.000000  1.076799e+07      1.000000   \n",
       "\n",
       "       google_index     page_rank  \n",
       "count  11430.000000  11430.000000  \n",
       "mean       0.533946      3.185739  \n",
       "std        0.498868      2.536955  \n",
       "min        0.000000      0.000000  \n",
       "25%        0.000000      1.000000  \n",
       "50%        1.000000      3.000000  \n",
       "75%        1.000000      5.000000  \n",
       "max        1.000000     10.000000  \n",
       "\n",
       "[8 rows x 87 columns]"
      ]
     },
     "execution_count": 561,
     "metadata": {},
     "output_type": "execute_result"
    }
   ],
   "source": [
    "data.describe()"
   ]
  },
  {
   "cell_type": "code",
   "execution_count": 562,
   "id": "5ef8f2b9",
   "metadata": {},
   "outputs": [
    {
     "name": "stdout",
     "output_type": "stream",
     "text": [
      "nb_or : [0]\n",
      "ratio_nullHyperlinks : [0]\n",
      "ratio_intRedirection : [0]\n",
      "ratio_intErrors : [0]\n",
      "submit_email : [0]\n",
      "sfh : [0]\n"
     ]
    }
   ],
   "source": [
    "for cols in data.columns:\n",
    "    if len(data[cols].unique()) < 2:\n",
    "        print(f\"{cols} : {data[cols].unique()}\")"
   ]
  },
  {
   "cell_type": "code",
   "execution_count": 563,
   "id": "5b85b32d",
   "metadata": {},
   "outputs": [
    {
     "name": "stdout",
     "output_type": "stream",
     "text": [
      "ip : [0 1]\n",
      "nb_tilde : [0 1]\n",
      "nb_star : [0 1]\n",
      "nb_dslash : [0 1]\n",
      "https_token : [1 0]\n",
      "punycode : [0 1]\n",
      "port : [0 1]\n",
      "tld_in_path : [0 1]\n",
      "tld_in_subdomain : [0 1]\n",
      "abnormal_subdomain : [0 1]\n",
      "prefix_suffix : [0 1]\n",
      "random_domain : [0 1]\n",
      "shortening_service : [0 1]\n",
      "path_extension : [0 1]\n",
      "nb_external_redirection : [0 1]\n",
      "domain_in_brand : [0 1]\n",
      "brand_in_subdomain : [0 1]\n",
      "brand_in_path : [0 1]\n",
      "suspecious_tld : [0 1]\n",
      "login_form : [0 1]\n",
      "external_favicon : [0 1]\n",
      "iframe : [0 1]\n",
      "popup_window : [0 1]\n",
      "onmouseover : [0 1]\n",
      "right_clic : [0 1]\n",
      "empty_title : [0 1]\n",
      "domain_in_title : [0 1]\n",
      "domain_with_copyright : [1 0]\n",
      "whois_registered_domain : [0 1]\n",
      "dns_record : [1 0]\n",
      "google_index : [1 0]\n",
      "status : ['legitimate' 'phishing']\n"
     ]
    }
   ],
   "source": [
    "\n",
    "for cols in data.columns:\n",
    "    if len(data[cols].unique()) == 2:\n",
    "        print(f\"{cols} : {data[cols].unique()}\")"
   ]
  },
  {
   "cell_type": "code",
   "execution_count": 564,
   "id": "ba85f97a",
   "metadata": {},
   "outputs": [
    {
     "name": "stdout",
     "output_type": "stream",
     "text": [
      "url\n",
      "length_url\n",
      "length_hostname\n",
      "nb_dots\n",
      "nb_hyphens\n",
      "nb_at\n",
      "nb_qm\n",
      "nb_and\n",
      "nb_eq\n",
      "nb_underscore\n",
      "nb_percent\n",
      "nb_slash\n",
      "nb_colon\n",
      "nb_comma\n",
      "nb_semicolumn\n",
      "nb_dollar\n",
      "nb_space\n",
      "nb_www\n",
      "nb_com\n",
      "http_in_path\n",
      "ratio_digits_url\n",
      "ratio_digits_host\n",
      "nb_subdomains\n",
      "nb_redirection\n",
      "length_words_raw\n",
      "char_repeat\n",
      "shortest_words_raw\n",
      "shortest_word_host\n",
      "shortest_word_path\n",
      "longest_words_raw\n",
      "longest_word_host\n",
      "longest_word_path\n",
      "avg_words_raw\n",
      "avg_word_host\n",
      "avg_word_path\n",
      "phish_hints\n",
      "statistical_report\n",
      "nb_hyperlinks\n",
      "ratio_intHyperlinks\n",
      "ratio_extHyperlinks\n",
      "nb_extCSS\n",
      "ratio_extRedirection\n",
      "ratio_extErrors\n",
      "links_in_tags\n",
      "ratio_intMedia\n",
      "ratio_extMedia\n",
      "safe_anchor\n",
      "domain_registration_length\n",
      "domain_age\n",
      "web_traffic\n",
      "page_rank\n"
     ]
    }
   ],
   "source": [
    "for cols in data.columns:\n",
    "    if len(data[cols].unique()) > 2:\n",
    "        print(f\"{cols}\")"
   ]
  },
  {
   "cell_type": "code",
   "execution_count": 565,
   "id": "979f9454",
   "metadata": {},
   "outputs": [],
   "source": [
    "# 26,27,28,35,54,37-50,51-56,58-73,75-83,85,87\n",
    "\n",
    "data = data.drop(data.iloc[:,[0,9,26,27,28,34,35,36,37,38,39,40,41,42,43,44,45,46,47,48,49,50,51,52,53,54,55,56,58,59,60,61,62,63,64,65,66,67,68,69,70,71,72,73,75,76,\n",
    "                  77,78,79,80,81,82,83,85,87]],axis = 1)"
   ]
  },
  {
   "cell_type": "code",
   "execution_count": 566,
   "id": "0c94e24b",
   "metadata": {},
   "outputs": [
    {
     "data": {
      "text/plain": [
       "array([0, 1, 4, 3, 2], dtype=int64)"
      ]
     },
     "execution_count": 566,
     "metadata": {},
     "output_type": "execute_result"
    }
   ],
   "source": [
    "data[\"http_in_path\"].unique()"
   ]
  },
  {
   "cell_type": "code",
   "execution_count": 567,
   "id": "27b76a75",
   "metadata": {},
   "outputs": [
    {
     "name": "stdout",
     "output_type": "stream",
     "text": [
      "<class 'pandas.core.frame.DataFrame'>\n",
      "RangeIndex: 11430 entries, 0 to 11429\n",
      "Data columns (total 34 columns):\n",
      " #   Column              Non-Null Count  Dtype \n",
      "---  ------              --------------  ----- \n",
      " 0   length_url          11430 non-null  int64 \n",
      " 1   length_hostname     11430 non-null  int64 \n",
      " 2   ip                  11430 non-null  int64 \n",
      " 3   nb_dots             11430 non-null  int64 \n",
      " 4   nb_hyphens          11430 non-null  int64 \n",
      " 5   nb_at               11430 non-null  int64 \n",
      " 6   nb_qm               11430 non-null  int64 \n",
      " 7   nb_and              11430 non-null  int64 \n",
      " 8   nb_eq               11430 non-null  int64 \n",
      " 9   nb_underscore       11430 non-null  int64 \n",
      " 10  nb_tilde            11430 non-null  int64 \n",
      " 11  nb_percent          11430 non-null  int64 \n",
      " 12  nb_slash            11430 non-null  int64 \n",
      " 13  nb_star             11430 non-null  int64 \n",
      " 14  nb_colon            11430 non-null  int64 \n",
      " 15  nb_comma            11430 non-null  int64 \n",
      " 16  nb_semicolumn       11430 non-null  int64 \n",
      " 17  nb_dollar           11430 non-null  int64 \n",
      " 18  nb_space            11430 non-null  int64 \n",
      " 19  nb_www              11430 non-null  int64 \n",
      " 20  nb_com              11430 non-null  int64 \n",
      " 21  nb_dslash           11430 non-null  int64 \n",
      " 22  http_in_path        11430 non-null  int64 \n",
      " 23  https_token         11430 non-null  int64 \n",
      " 24  port                11430 non-null  int64 \n",
      " 25  tld_in_path         11430 non-null  int64 \n",
      " 26  tld_in_subdomain    11430 non-null  int64 \n",
      " 27  abnormal_subdomain  11430 non-null  int64 \n",
      " 28  nb_subdomains       11430 non-null  int64 \n",
      " 29  nb_hyperlinks       11430 non-null  int64 \n",
      " 30  popup_window        11430 non-null  int64 \n",
      " 31  web_traffic         11430 non-null  int64 \n",
      " 32  google_index        11430 non-null  int64 \n",
      " 33  status              11430 non-null  object\n",
      "dtypes: int64(33), object(1)\n",
      "memory usage: 3.0+ MB\n"
     ]
    }
   ],
   "source": [
    "data.info()"
   ]
  },
  {
   "cell_type": "code",
   "execution_count": 568,
   "id": "b9ba77f0",
   "metadata": {},
   "outputs": [
    {
     "name": "stdout",
     "output_type": "stream",
     "text": [
      "greater than 2 length_url\n",
      "greater than 2 length_hostname\n",
      "greater than 2 ip\n",
      "greater than 2 nb_dots\n",
      "greater than 2 nb_hyphens\n",
      "greater than 2 nb_at\n",
      "greater than 2 nb_qm\n",
      "greater than 2 nb_and\n",
      "greater than 2 nb_eq\n",
      "greater than 2 nb_underscore\n",
      "greater than 2 nb_tilde\n",
      "greater than 2 nb_percent\n",
      "greater than 2 nb_slash\n",
      "greater than 2 nb_star\n",
      "greater than 2 nb_colon\n",
      "greater than 2 nb_comma\n",
      "greater than 2 nb_semicolumn\n",
      "greater than 2 nb_dollar\n",
      "greater than 2 nb_space\n",
      "greater than 2 nb_www\n",
      "greater than 2 nb_com\n",
      "greater than 2 nb_dslash\n",
      "greater than 2 http_in_path\n",
      "greater than 2 https_token\n",
      "greater than 2 port\n",
      "greater than 2 tld_in_path\n",
      "greater than 2 tld_in_subdomain\n",
      "greater than 2 abnormal_subdomain\n",
      "greater than 2 nb_subdomains\n",
      "greater than 2 nb_hyperlinks\n",
      "greater than 2 popup_window\n",
      "greater than 2 web_traffic\n",
      "greater than 2 google_index\n",
      "greater than 2 status\n"
     ]
    }
   ],
   "source": [
    "for col in data.columns:\n",
    "    if len(data[col].unique()) < 2:\n",
    "        print(f\"lesser than 2 {col}\")\n",
    "    else:\n",
    "        print(f\"greater than 2 {col}\")"
   ]
  },
  {
   "cell_type": "code",
   "execution_count": 569,
   "id": "f4c9e9f9",
   "metadata": {},
   "outputs": [
    {
     "data": {
      "text/plain": [
       "0        0.0\n",
       "1        1.0\n",
       "2        1.0\n",
       "3        0.0\n",
       "4        0.0\n",
       "        ... \n",
       "11425    0.0\n",
       "11426    1.0\n",
       "11427    0.0\n",
       "11428    0.0\n",
       "11429    1.0\n",
       "Name: status, Length: 11430, dtype: float64"
      ]
     },
     "execution_count": 569,
     "metadata": {},
     "output_type": "execute_result"
    }
   ],
   "source": [
    "ordinal_enc = OrdinalEncoder()\n",
    "data[\"status\"] = ordinal_enc.fit_transform(data[\"status\"].values.reshape(-1,1))\n",
    "data[\"status\"]"
   ]
  },
  {
   "cell_type": "code",
   "execution_count": 570,
   "id": "4cce0d16",
   "metadata": {},
   "outputs": [],
   "source": [
    "#data[data[\"https_token\"] == 0]"
   ]
  },
  {
   "cell_type": "markdown",
   "id": "cb5f77bb",
   "metadata": {},
   "source": [
    "# Visualising"
   ]
  },
  {
   "cell_type": "code",
   "execution_count": 571,
   "id": "e5526e2a",
   "metadata": {},
   "outputs": [],
   "source": [
    "#30,31\n",
    "def counting(var,col):\n",
    "    return sns.countplot(x = var,data = data, hue = col)\n",
    "    "
   ]
  },
  {
   "cell_type": "code",
   "execution_count": 572,
   "id": "e063b6bf",
   "metadata": {},
   "outputs": [
    {
     "data": {
      "text/plain": [
       "<AxesSubplot:xlabel='status', ylabel='count'>"
      ]
     },
     "execution_count": 572,
     "metadata": {},
     "output_type": "execute_result"
    },
    {
     "data": {
      "image/png": "[encoded data removed]",
      "text/plain": [
       "<Figure size 432x288 with 1 Axes>"
      ]
     },
     "metadata": {
      "needs_background": "light"
     },
     "output_type": "display_data"
    }
   ],
   "source": [
    "counting(\"status\",\"google_index\")"
   ]
  },
  {
   "cell_type": "code",
   "execution_count": 573,
   "id": "55ceb9f2",
   "metadata": {},
   "outputs": [
    {
     "data": {
      "text/plain": [
       "<AxesSubplot:xlabel='status', ylabel='count'>"
      ]
     },
     "execution_count": 573,
     "metadata": {},
     "output_type": "execute_result"
    },
    {
     "data": {
      "image/png": "[encoded data removed]",
      "text/plain": [
       "<Figure size 432x288 with 1 Axes>"
      ]
     },
     "metadata": {
      "needs_background": "light"
     },
     "output_type": "display_data"
    }
   ],
   "source": [
    "counting(\"status\",\"http_in_path\")"
   ]
  },
  {
   "cell_type": "code",
   "execution_count": 574,
   "id": "564b4d80",
   "metadata": {},
   "outputs": [
    {
     "data": {
      "text/plain": [
       "<AxesSubplot:xlabel='status', ylabel='count'>"
      ]
     },
     "execution_count": 574,
     "metadata": {},
     "output_type": "execute_result"
    },
    {
     "data": {
      "image/png": "[encoded data removed]",
      "text/plain": [
       "<Figure size 432x288 with 1 Axes>"
      ]
     },
     "metadata": {
      "needs_background": "light"
     },
     "output_type": "display_data"
    }
   ],
   "source": [
    "counting(\"status\",\"https_token\")"
   ]
  },
  {
   "cell_type": "code",
   "execution_count": 575,
   "id": "e47b12cd",
   "metadata": {},
   "outputs": [
    {
     "data": {
      "text/plain": [
       "<AxesSubplot:xlabel='status', ylabel='count'>"
      ]
     },
     "execution_count": 575,
     "metadata": {},
     "output_type": "execute_result"
    },
    {
     "data": {
      "image/png": "[encoded data removed]",
      "text/plain": [
       "<Figure size 432x288 with 1 Axes>"
      ]
     },
     "metadata": {
      "needs_background": "light"
     },
     "output_type": "display_data"
    }
   ],
   "source": [
    "counting(\"status\",\"port\")"
   ]
  },
  {
   "cell_type": "code",
   "execution_count": 576,
   "id": "c2b6496f",
   "metadata": {},
   "outputs": [
    {
     "data": {
      "text/plain": [
       "<AxesSubplot:xlabel='status', ylabel='count'>"
      ]
     },
     "execution_count": 576,
     "metadata": {},
     "output_type": "execute_result"
    },
    {
     "data": {
      "image/png": "[encoded data removed]",
      "text/plain": [
       "<Figure size 432x288 with 1 Axes>"
      ]
     },
     "metadata": {
      "needs_background": "light"
     },
     "output_type": "display_data"
    }
   ],
   "source": [
    "counting(\"status\",\"tld_in_path\")"
   ]
  },
  {
   "cell_type": "code",
   "execution_count": 577,
   "id": "d63d5f14",
   "metadata": {},
   "outputs": [
    {
     "data": {
      "text/plain": [
       "<AxesSubplot:xlabel='status', ylabel='count'>"
      ]
     },
     "execution_count": 577,
     "metadata": {},
     "output_type": "execute_result"
    },
    {
     "data": {
      "image/png": "[encoded data removed]",
      "text/plain": [
       "<Figure size 432x288 with 1 Axes>"
      ]
     },
     "metadata": {
      "needs_background": "light"
     },
     "output_type": "display_data"
    }
   ],
   "source": [
    "counting(\"status\",\"tld_in_subdomain\")"
   ]
  },
  {
   "cell_type": "code",
   "execution_count": 578,
   "id": "3dd1b46d",
   "metadata": {},
   "outputs": [
    {
     "data": {
      "text/plain": [
       "<AxesSubplot:xlabel='status', ylabel='count'>"
      ]
     },
     "execution_count": 578,
     "metadata": {},
     "output_type": "execute_result"
    },
    {
     "data": {
      "image/png": "[encoded data removed]",
      "text/plain": [
       "<Figure size 432x288 with 1 Axes>"
      ]
     },
     "metadata": {
      "needs_background": "light"
     },
     "output_type": "display_data"
    }
   ],
   "source": [
    "counting(\"status\",\"abnormal_subdomain\")"
   ]
  },
  {
   "cell_type": "code",
   "execution_count": 579,
   "id": "4ca15526",
   "metadata": {},
   "outputs": [
    {
     "data": {
      "text/plain": [
       "<AxesSubplot:xlabel='status', ylabel='count'>"
      ]
     },
     "execution_count": 579,
     "metadata": {},
     "output_type": "execute_result"
    },
    {
     "data": {
      "image/png": "[encoded data removed]",
      "text/plain": [
       "<Figure size 432x288 with 1 Axes>"
      ]
     },
     "metadata": {
      "needs_background": "light"
     },
     "output_type": "display_data"
    }
   ],
   "source": [
    "counting(\"status\",\"nb_subdomains\")       "
   ]
  },
  {
   "cell_type": "code",
   "execution_count": 580,
   "id": "de7ea88d",
   "metadata": {},
   "outputs": [
    {
     "data": {
      "text/plain": [
       "<AxesSubplot:xlabel='status', ylabel='count'>"
      ]
     },
     "execution_count": 580,
     "metadata": {},
     "output_type": "execute_result"
    },
    {
     "data": {
      "image/png": "[encoded data removed]",
      "text/plain": [
       "<Figure size 432x288 with 1 Axes>"
      ]
     },
     "metadata": {
      "needs_background": "light"
     },
     "output_type": "display_data"
    }
   ],
   "source": [
    "counting(\"status\",\"popup_window\")"
   ]
  },
  {
   "cell_type": "code",
   "execution_count": 581,
   "id": "83d598d3",
   "metadata": {},
   "outputs": [],
   "source": [
    "data = data.drop(data.iloc[:,[25,26]],axis = 1)"
   ]
  },
  {
   "cell_type": "code",
   "execution_count": 582,
   "id": "dfe8766a",
   "metadata": {},
   "outputs": [
    {
     "data": {
      "text/plain": [
       "array([[<AxesSubplot:xlabel='http_in_path', ylabel='http_in_path'>,\n",
       "        <AxesSubplot:xlabel='nb_subdomains', ylabel='http_in_path'>,\n",
       "        <AxesSubplot:xlabel='web_traffic', ylabel='http_in_path'>,\n",
       "        <AxesSubplot:xlabel='google_index', ylabel='http_in_path'>,\n",
       "        <AxesSubplot:xlabel='status', ylabel='http_in_path'>],\n",
       "       [<AxesSubplot:xlabel='http_in_path', ylabel='nb_subdomains'>,\n",
       "        <AxesSubplot:xlabel='nb_subdomains', ylabel='nb_subdomains'>,\n",
       "        <AxesSubplot:xlabel='web_traffic', ylabel='nb_subdomains'>,\n",
       "        <AxesSubplot:xlabel='google_index', ylabel='nb_subdomains'>,\n",
       "        <AxesSubplot:xlabel='status', ylabel='nb_subdomains'>],\n",
       "       [<AxesSubplot:xlabel='http_in_path', ylabel='web_traffic'>,\n",
       "        <AxesSubplot:xlabel='nb_subdomains', ylabel='web_traffic'>,\n",
       "        <AxesSubplot:xlabel='web_traffic', ylabel='web_traffic'>,\n",
       "        <AxesSubplot:xlabel='google_index', ylabel='web_traffic'>,\n",
       "        <AxesSubplot:xlabel='status', ylabel='web_traffic'>],\n",
       "       [<AxesSubplot:xlabel='http_in_path', ylabel='google_index'>,\n",
       "        <AxesSubplot:xlabel='nb_subdomains', ylabel='google_index'>,\n",
       "        <AxesSubplot:xlabel='web_traffic', ylabel='google_index'>,\n",
       "        <AxesSubplot:xlabel='google_index', ylabel='google_index'>,\n",
       "        <AxesSubplot:xlabel='status', ylabel='google_index'>],\n",
       "       [<AxesSubplot:xlabel='http_in_path', ylabel='status'>,\n",
       "        <AxesSubplot:xlabel='nb_subdomains', ylabel='status'>,\n",
       "        <AxesSubplot:xlabel='web_traffic', ylabel='status'>,\n",
       "        <AxesSubplot:xlabel='google_index', ylabel='status'>,\n",
       "        <AxesSubplot:xlabel='status', ylabel='status'>]], dtype=object)"
      ]
     },
     "execution_count": 582,
     "metadata": {},
     "output_type": "execute_result"
    },
    {
     "data": {
      "image/png": "[encoded data removed]",
      "text/plain": [
       "<Figure size 1080x720 with 25 Axes>"
      ]
     },
     "metadata": {
      "needs_background": "light"
     },
     "output_type": "display_data"
    }
   ],
   "source": [
    "attrs = [\"http_in_path\",\"nb_subdomains\",\"web_traffic\",\"google_index\",\"status\"]\n",
    "scatter_matrix(data[attrs],figsize = (15,10),alpha = 0.1)"
   ]
  },
  {
   "cell_type": "code",
   "execution_count": 583,
   "id": "391533ff",
   "metadata": {},
   "outputs": [
    {
     "data": {
      "text/plain": [
       "<AxesSubplot:>"
      ]
     },
     "execution_count": 583,
     "metadata": {},
     "output_type": "execute_result"
    },
    {
     "data": {
      "image/png": "[encoded data removed]",
      "text/plain": [
       "<Figure size 1080x720 with 2 Axes>"
      ]
     },
     "metadata": {
      "needs_background": "light"
     },
     "output_type": "display_data"
    }
   ],
   "source": [
    "figure,axes = plt.subplots(figsize = (15,10))\n",
    "sns.heatmap(data[attrs].corr(),annot = True,ax = axes)"
   ]
  },
  {
   "cell_type": "code",
   "execution_count": 584,
   "id": "6298b303",
   "metadata": {},
   "outputs": [
    {
     "data": {
      "text/plain": [
       "array([1, 0, 2], dtype=int64)"
      ]
     },
     "execution_count": 584,
     "metadata": {},
     "output_type": "execute_result"
    }
   ],
   "source": [
    "data[\"nb_www\"].unique()"
   ]
  },
  {
   "cell_type": "code",
   "execution_count": 585,
   "id": "65241969",
   "metadata": {},
   "outputs": [
    {
     "data": {
      "text/plain": [
       "length_url            0.248580\n",
       "length_hostname       0.238322\n",
       "ip                    0.321698\n",
       "nb_dots               0.207029\n",
       "nb_hyphens           -0.100107\n",
       "nb_at                 0.142915\n",
       "nb_qm                 0.294319\n",
       "nb_and                0.170546\n",
       "nb_eq                 0.233386\n",
       "nb_underscore         0.038091\n",
       "nb_tilde              0.030142\n",
       "nb_percent            0.028101\n",
       "nb_slash              0.242270\n",
       "nb_star               0.026465\n",
       "nb_colon              0.092835\n",
       "nb_comma              0.011865\n",
       "nb_semicolumn         0.103554\n",
       "nb_dollar             0.024962\n",
       "nb_space             -0.004193\n",
       "nb_www               -0.443468\n",
       "nb_com                0.156284\n",
       "nb_dslash             0.072602\n",
       "http_in_path          0.070776\n",
       "https_token           0.114669\n",
       "port                  0.009011\n",
       "abnormal_subdomain    0.128160\n",
       "nb_subdomains         0.112891\n",
       "nb_hyperlinks        -0.342628\n",
       "popup_window         -0.057602\n",
       "web_traffic           0.060388\n",
       "google_index          0.731171\n",
       "status                1.000000\n",
       "Name: status, dtype: float64"
      ]
     },
     "execution_count": 585,
     "metadata": {},
     "output_type": "execute_result"
    }
   ],
   "source": [
    "cor_mat = data.corr()\n",
    "cor_mat[\"status\"]"
   ]
  },
  {
   "cell_type": "code",
   "execution_count": 586,
   "id": "1c933f15",
   "metadata": {},
   "outputs": [
    {
     "data": {
      "text/plain": [
       "<AxesSubplot:>"
      ]
     },
     "execution_count": 586,
     "metadata": {},
     "output_type": "execute_result"
    },
    {
     "data": {
      "image/png": "[encoded data removed]",
      "text/plain": [
       "<Figure size 720x576 with 2 Axes>"
      ]
     },
     "metadata": {
      "needs_background": "light"
     },
     "output_type": "display_data"
    }
   ],
   "source": [
    "plt.figure(figsize = (10,8))\n",
    "sns.heatmap(cor_mat)\n"
   ]
  },
  {
   "cell_type": "code",
   "execution_count": 587,
   "id": "b1e51420",
   "metadata": {},
   "outputs": [
    {
     "data": {
      "text/plain": [
       "<AxesSubplot:xlabel='status', ylabel='count'>"
      ]
     },
     "execution_count": 587,
     "metadata": {},
     "output_type": "execute_result"
    },
    {
     "data": {
      "image/png": "[encoded data removed]",
      "text/plain": [
       "<Figure size 432x288 with 1 Axes>"
      ]
     },
     "metadata": {
      "needs_background": "light"
     },
     "output_type": "display_data"
    }
   ],
   "source": [
    "counting(\"status\",\"nb_www\")"
   ]
  },
  {
   "cell_type": "code",
   "execution_count": 588,
   "id": "43096022",
   "metadata": {},
   "outputs": [
    {
     "data": {
      "text/plain": [
       "<AxesSubplot:xlabel='nb_www', ylabel='count'>"
      ]
     },
     "execution_count": 588,
     "metadata": {},
     "output_type": "execute_result"
    },
    {
     "data": {
      "image/png": "[encoded data removed]",
      "text/plain": [
       "<Figure size 432x288 with 1 Axes>"
      ]
     },
     "metadata": {
      "needs_background": "light"
     },
     "output_type": "display_data"
    }
   ],
   "source": [
    "counting(\"nb_www\",\"google_index\")"
   ]
  },
  {
   "cell_type": "markdown",
   "id": "3d3a1805",
   "metadata": {},
   "source": [
    "#  Splitting train and test set "
   ]
  },
  {
   "cell_type": "code",
   "execution_count": 589,
   "id": "1df6ea52",
   "metadata": {},
   "outputs": [],
   "source": [
    "data[\"google_index_cut\"] = pd.cut(data[\"google_index\"],\n",
    "                             bins = [-1,0,1]).astype(str)"
   ]
  },
  {
   "cell_type": "code",
   "execution_count": 590,
   "id": "25455eba",
   "metadata": {},
   "outputs": [
    {
     "data": {
      "text/plain": [
       "<AxesSubplot:>"
      ]
     },
     "execution_count": 590,
     "metadata": {},
     "output_type": "execute_result"
    },
    {
     "data": {
      "image/png": "[encoded data removed]",
      "text/plain": [
       "<Figure size 720x576 with 1 Axes>"
      ]
     },
     "metadata": {
      "needs_background": "light"
     },
     "output_type": "display_data"
    }
   ],
   "source": [
    "plt.figure(figsize = (10,8))\n",
    "data[\"google_index_cut\"].hist()"
   ]
  },
  {
   "cell_type": "code",
   "execution_count": 591,
   "id": "836c0e35",
   "metadata": {},
   "outputs": [],
   "source": [
    "split = StratifiedShuffleSplit(n_splits = 1,test_size = 0.2,random_state = 42)\n",
    "for train_index,test_index in split.split(data,data[\"google_index_cut\"]):\n",
    "    strat_train_set = data.loc[train_index]\n",
    "    strat_test_set = data.loc[test_index]\n"
   ]
  },
  {
   "cell_type": "code",
   "execution_count": 592,
   "id": "ae802fe4",
   "metadata": {},
   "outputs": [
    {
     "data": {
      "text/plain": [
       "(0, 1]     0.533902\n",
       "(-1, 0]    0.466098\n",
       "Name: google_index_cut, dtype: float64"
      ]
     },
     "execution_count": 592,
     "metadata": {},
     "output_type": "execute_result"
    }
   ],
   "source": [
    "strat_train_set[\"google_index_cut\"].value_counts() / len(strat_train_set)"
   ]
  },
  {
   "cell_type": "code",
   "execution_count": null,
   "id": "a369abb2",
   "metadata": {},
   "outputs": [],
   "source": []
  },
  {
   "cell_type": "code",
   "execution_count": 593,
   "id": "9565c580",
   "metadata": {},
   "outputs": [],
   "source": [
    "for set_ in (strat_train_set, strat_test_set):\n",
    "    set_.drop(\"google_index_cut\", axis=1, inplace=True)"
   ]
  },
  {
   "cell_type": "code",
   "execution_count": 594,
   "id": "348200e0",
   "metadata": {},
   "outputs": [],
   "source": [
    "train_set,test_set = train_test_split(data,test_size = 0.2,random_state = 100)"
   ]
  },
  {
   "cell_type": "code",
   "execution_count": 595,
   "id": "98c98dea",
   "metadata": {},
   "outputs": [
    {
     "data": {
      "text/plain": [
       "1    0.532918\n",
       "0    0.467082\n",
       "Name: google_index, dtype: float64"
      ]
     },
     "execution_count": 595,
     "metadata": {},
     "output_type": "execute_result"
    }
   ],
   "source": [
    "train_set[\"google_index\"].value_counts() / len(train_set)"
   ]
  },
  {
   "cell_type": "markdown",
   "id": "48e46d89",
   "metadata": {},
   "source": [
    "# Preprocessing data"
   ]
  },
  {
   "cell_type": "code",
   "execution_count": 596,
   "id": "ce9a877e",
   "metadata": {},
   "outputs": [],
   "source": [
    "web_in = strat_train_set.drop(\"status\",axis = 1)\n",
    "web_out = strat_train_set[\"status\"]"
   ]
  },
  {
   "cell_type": "code",
   "execution_count": 597,
   "id": "dc0fb62d",
   "metadata": {},
   "outputs": [
    {
     "data": {
      "text/html": [
       "<div>\n",
       "<style scoped>\n",
       "    .dataframe tbody tr th:only-of-type {\n",
       "        vertical-align: middle;\n",
       "    }\n",
       "\n",
       "    .dataframe tbody tr th {\n",
       "        vertical-align: top;\n",
       "    }\n",
       "\n",
       "    .dataframe thead th {\n",
       "        text-align: right;\n",
       "    }\n",
       "</style>\n",
       "<table border=\"1\" class=\"dataframe\">\n",
       "  <thead>\n",
       "    <tr style=\"text-align: right;\">\n",
       "      <th></th>\n",
       "      <th>length_url</th>\n",
       "      <th>length_hostname</th>\n",
       "      <th>ip</th>\n",
       "      <th>nb_dots</th>\n",
       "      <th>nb_hyphens</th>\n",
       "      <th>nb_at</th>\n",
       "      <th>nb_qm</th>\n",
       "      <th>nb_and</th>\n",
       "      <th>nb_eq</th>\n",
       "      <th>nb_underscore</th>\n",
       "      <th>...</th>\n",
       "      <th>nb_dslash</th>\n",
       "      <th>http_in_path</th>\n",
       "      <th>https_token</th>\n",
       "      <th>port</th>\n",
       "      <th>abnormal_subdomain</th>\n",
       "      <th>nb_subdomains</th>\n",
       "      <th>nb_hyperlinks</th>\n",
       "      <th>popup_window</th>\n",
       "      <th>web_traffic</th>\n",
       "      <th>google_index</th>\n",
       "    </tr>\n",
       "  </thead>\n",
       "  <tbody>\n",
       "    <tr>\n",
       "      <th>619</th>\n",
       "      <td>41</td>\n",
       "      <td>33</td>\n",
       "      <td>0</td>\n",
       "      <td>3</td>\n",
       "      <td>2</td>\n",
       "      <td>0</td>\n",
       "      <td>0</td>\n",
       "      <td>0</td>\n",
       "      <td>0</td>\n",
       "      <td>0</td>\n",
       "      <td>...</td>\n",
       "      <td>0</td>\n",
       "      <td>0</td>\n",
       "      <td>1</td>\n",
       "      <td>0</td>\n",
       "      <td>0</td>\n",
       "      <td>3</td>\n",
       "      <td>103</td>\n",
       "      <td>0</td>\n",
       "      <td>481145</td>\n",
       "      <td>1</td>\n",
       "    </tr>\n",
       "    <tr>\n",
       "      <th>2844</th>\n",
       "      <td>66</td>\n",
       "      <td>26</td>\n",
       "      <td>0</td>\n",
       "      <td>2</td>\n",
       "      <td>1</td>\n",
       "      <td>0</td>\n",
       "      <td>1</td>\n",
       "      <td>0</td>\n",
       "      <td>1</td>\n",
       "      <td>0</td>\n",
       "      <td>...</td>\n",
       "      <td>0</td>\n",
       "      <td>0</td>\n",
       "      <td>0</td>\n",
       "      <td>0</td>\n",
       "      <td>0</td>\n",
       "      <td>2</td>\n",
       "      <td>197</td>\n",
       "      <td>0</td>\n",
       "      <td>0</td>\n",
       "      <td>0</td>\n",
       "    </tr>\n",
       "    <tr>\n",
       "      <th>10795</th>\n",
       "      <td>45</td>\n",
       "      <td>27</td>\n",
       "      <td>0</td>\n",
       "      <td>3</td>\n",
       "      <td>0</td>\n",
       "      <td>0</td>\n",
       "      <td>0</td>\n",
       "      <td>0</td>\n",
       "      <td>0</td>\n",
       "      <td>0</td>\n",
       "      <td>...</td>\n",
       "      <td>0</td>\n",
       "      <td>0</td>\n",
       "      <td>1</td>\n",
       "      <td>0</td>\n",
       "      <td>0</td>\n",
       "      <td>3</td>\n",
       "      <td>1</td>\n",
       "      <td>0</td>\n",
       "      <td>0</td>\n",
       "      <td>1</td>\n",
       "    </tr>\n",
       "    <tr>\n",
       "      <th>2353</th>\n",
       "      <td>73</td>\n",
       "      <td>13</td>\n",
       "      <td>0</td>\n",
       "      <td>2</td>\n",
       "      <td>5</td>\n",
       "      <td>0</td>\n",
       "      <td>0</td>\n",
       "      <td>0</td>\n",
       "      <td>0</td>\n",
       "      <td>0</td>\n",
       "      <td>...</td>\n",
       "      <td>0</td>\n",
       "      <td>0</td>\n",
       "      <td>1</td>\n",
       "      <td>0</td>\n",
       "      <td>0</td>\n",
       "      <td>2</td>\n",
       "      <td>17</td>\n",
       "      <td>0</td>\n",
       "      <td>142110</td>\n",
       "      <td>0</td>\n",
       "    </tr>\n",
       "    <tr>\n",
       "      <th>2401</th>\n",
       "      <td>26</td>\n",
       "      <td>18</td>\n",
       "      <td>0</td>\n",
       "      <td>2</td>\n",
       "      <td>0</td>\n",
       "      <td>0</td>\n",
       "      <td>0</td>\n",
       "      <td>0</td>\n",
       "      <td>0</td>\n",
       "      <td>0</td>\n",
       "      <td>...</td>\n",
       "      <td>0</td>\n",
       "      <td>0</td>\n",
       "      <td>1</td>\n",
       "      <td>0</td>\n",
       "      <td>0</td>\n",
       "      <td>2</td>\n",
       "      <td>82</td>\n",
       "      <td>0</td>\n",
       "      <td>485347</td>\n",
       "      <td>1</td>\n",
       "    </tr>\n",
       "    <tr>\n",
       "      <th>...</th>\n",
       "      <td>...</td>\n",
       "      <td>...</td>\n",
       "      <td>...</td>\n",
       "      <td>...</td>\n",
       "      <td>...</td>\n",
       "      <td>...</td>\n",
       "      <td>...</td>\n",
       "      <td>...</td>\n",
       "      <td>...</td>\n",
       "      <td>...</td>\n",
       "      <td>...</td>\n",
       "      <td>...</td>\n",
       "      <td>...</td>\n",
       "      <td>...</td>\n",
       "      <td>...</td>\n",
       "      <td>...</td>\n",
       "      <td>...</td>\n",
       "      <td>...</td>\n",
       "      <td>...</td>\n",
       "      <td>...</td>\n",
       "      <td>...</td>\n",
       "    </tr>\n",
       "    <tr>\n",
       "      <th>10114</th>\n",
       "      <td>86</td>\n",
       "      <td>16</td>\n",
       "      <td>0</td>\n",
       "      <td>2</td>\n",
       "      <td>1</td>\n",
       "      <td>0</td>\n",
       "      <td>0</td>\n",
       "      <td>0</td>\n",
       "      <td>0</td>\n",
       "      <td>1</td>\n",
       "      <td>...</td>\n",
       "      <td>0</td>\n",
       "      <td>0</td>\n",
       "      <td>1</td>\n",
       "      <td>0</td>\n",
       "      <td>0</td>\n",
       "      <td>2</td>\n",
       "      <td>13</td>\n",
       "      <td>0</td>\n",
       "      <td>4431878</td>\n",
       "      <td>1</td>\n",
       "    </tr>\n",
       "    <tr>\n",
       "      <th>9173</th>\n",
       "      <td>34</td>\n",
       "      <td>8</td>\n",
       "      <td>0</td>\n",
       "      <td>1</td>\n",
       "      <td>1</td>\n",
       "      <td>0</td>\n",
       "      <td>0</td>\n",
       "      <td>0</td>\n",
       "      <td>0</td>\n",
       "      <td>0</td>\n",
       "      <td>...</td>\n",
       "      <td>0</td>\n",
       "      <td>0</td>\n",
       "      <td>1</td>\n",
       "      <td>0</td>\n",
       "      <td>0</td>\n",
       "      <td>1</td>\n",
       "      <td>37</td>\n",
       "      <td>0</td>\n",
       "      <td>0</td>\n",
       "      <td>1</td>\n",
       "    </tr>\n",
       "    <tr>\n",
       "      <th>9412</th>\n",
       "      <td>33</td>\n",
       "      <td>25</td>\n",
       "      <td>0</td>\n",
       "      <td>1</td>\n",
       "      <td>0</td>\n",
       "      <td>0</td>\n",
       "      <td>0</td>\n",
       "      <td>0</td>\n",
       "      <td>0</td>\n",
       "      <td>0</td>\n",
       "      <td>...</td>\n",
       "      <td>0</td>\n",
       "      <td>0</td>\n",
       "      <td>1</td>\n",
       "      <td>0</td>\n",
       "      <td>0</td>\n",
       "      <td>1</td>\n",
       "      <td>0</td>\n",
       "      <td>0</td>\n",
       "      <td>0</td>\n",
       "      <td>1</td>\n",
       "    </tr>\n",
       "    <tr>\n",
       "      <th>2971</th>\n",
       "      <td>59</td>\n",
       "      <td>16</td>\n",
       "      <td>0</td>\n",
       "      <td>2</td>\n",
       "      <td>0</td>\n",
       "      <td>0</td>\n",
       "      <td>0</td>\n",
       "      <td>0</td>\n",
       "      <td>0</td>\n",
       "      <td>3</td>\n",
       "      <td>...</td>\n",
       "      <td>0</td>\n",
       "      <td>0</td>\n",
       "      <td>0</td>\n",
       "      <td>0</td>\n",
       "      <td>0</td>\n",
       "      <td>2</td>\n",
       "      <td>996</td>\n",
       "      <td>0</td>\n",
       "      <td>12</td>\n",
       "      <td>1</td>\n",
       "    </tr>\n",
       "    <tr>\n",
       "      <th>1828</th>\n",
       "      <td>24</td>\n",
       "      <td>5</td>\n",
       "      <td>0</td>\n",
       "      <td>1</td>\n",
       "      <td>0</td>\n",
       "      <td>0</td>\n",
       "      <td>0</td>\n",
       "      <td>0</td>\n",
       "      <td>0</td>\n",
       "      <td>0</td>\n",
       "      <td>...</td>\n",
       "      <td>0</td>\n",
       "      <td>0</td>\n",
       "      <td>1</td>\n",
       "      <td>0</td>\n",
       "      <td>0</td>\n",
       "      <td>1</td>\n",
       "      <td>76</td>\n",
       "      <td>0</td>\n",
       "      <td>134401</td>\n",
       "      <td>1</td>\n",
       "    </tr>\n",
       "  </tbody>\n",
       "</table>\n",
       "<p>9144 rows × 31 columns</p>\n",
       "</div>"
      ],
      "text/plain": [
       "       length_url  length_hostname  ip  nb_dots  nb_hyphens  nb_at  nb_qm  \\\n",
       "619            41               33   0        3           2      0      0   \n",
       "2844           66               26   0        2           1      0      1   \n",
       "10795          45               27   0        3           0      0      0   \n",
       "2353           73               13   0        2           5      0      0   \n",
       "2401           26               18   0        2           0      0      0   \n",
       "...           ...              ...  ..      ...         ...    ...    ...   \n",
       "10114          86               16   0        2           1      0      0   \n",
       "9173           34                8   0        1           1      0      0   \n",
       "9412           33               25   0        1           0      0      0   \n",
       "2971           59               16   0        2           0      0      0   \n",
       "1828           24                5   0        1           0      0      0   \n",
       "\n",
       "       nb_and  nb_eq  nb_underscore  ...  nb_dslash  http_in_path  \\\n",
       "619         0      0              0  ...          0             0   \n",
       "2844        0      1              0  ...          0             0   \n",
       "10795       0      0              0  ...          0             0   \n",
       "2353        0      0              0  ...          0             0   \n",
       "2401        0      0              0  ...          0             0   \n",
       "...       ...    ...            ...  ...        ...           ...   \n",
       "10114       0      0              1  ...          0             0   \n",
       "9173        0      0              0  ...          0             0   \n",
       "9412        0      0              0  ...          0             0   \n",
       "2971        0      0              3  ...          0             0   \n",
       "1828        0      0              0  ...          0             0   \n",
       "\n",
       "       https_token  port  abnormal_subdomain  nb_subdomains  nb_hyperlinks  \\\n",
       "619              1     0                   0              3            103   \n",
       "2844             0     0                   0              2            197   \n",
       "10795            1     0                   0              3              1   \n",
       "2353             1     0                   0              2             17   \n",
       "2401             1     0                   0              2             82   \n",
       "...            ...   ...                 ...            ...            ...   \n",
       "10114            1     0                   0              2             13   \n",
       "9173             1     0                   0              1             37   \n",
       "9412             1     0                   0              1              0   \n",
       "2971             0     0                   0              2            996   \n",
       "1828             1     0                   0              1             76   \n",
       "\n",
       "       popup_window  web_traffic  google_index  \n",
       "619               0       481145             1  \n",
       "2844              0            0             0  \n",
       "10795             0            0             1  \n",
       "2353              0       142110             0  \n",
       "2401              0       485347             1  \n",
       "...             ...          ...           ...  \n",
       "10114             0      4431878             1  \n",
       "9173              0            0             1  \n",
       "9412              0            0             1  \n",
       "2971              0           12             1  \n",
       "1828              0       134401             1  \n",
       "\n",
       "[9144 rows x 31 columns]"
      ]
     },
     "execution_count": 597,
     "metadata": {},
     "output_type": "execute_result"
    }
   ],
   "source": [
    "web_in"
   ]
  },
  {
   "cell_type": "code",
   "execution_count": 598,
   "id": "4349594a",
   "metadata": {},
   "outputs": [],
   "source": [
    "class scaled_data(BaseEstimator,TransformerMixin):\n",
    "    def __init__(self,columns = None):\n",
    "        self.columns = columns\n",
    "    \n",
    "    def fit(self,X,y):\n",
    "        return self\n",
    "    \n",
    "    def transform(self,X,y):\n",
    "        pass\n",
    "    \n",
    "    def fit_transform(self):\n",
    "        pass"
   ]
  },
  {
   "cell_type": "code",
   "execution_count": 599,
   "id": "ce261025",
   "metadata": {},
   "outputs": [],
   "source": [
    "scale_pipe = Pipeline([\n",
    "    (\"scaling\",MinMaxScaler()),\n",
    "    (\"fill null\",SimpleImputer(strategy = \"median\"))\n",
    "])"
   ]
  },
  {
   "cell_type": "code",
   "execution_count": 600,
   "id": "000b89ad",
   "metadata": {},
   "outputs": [],
   "source": [
    "scaled_web_in = scale_pipe.fit_transform(web_in)"
   ]
  },
  {
   "cell_type": "code",
   "execution_count": 601,
   "id": "7b0b23c7",
   "metadata": {},
   "outputs": [
    {
     "data": {
      "text/plain": [
       "array([[1.78023327e-02, 1.38095238e-01, 0.00000000e+00, ...,\n",
       "        0.00000000e+00, 4.47576786e-02, 1.00000000e+00],\n",
       "       [3.31491713e-02, 1.04761905e-01, 0.00000000e+00, ...,\n",
       "        0.00000000e+00, 0.00000000e+00, 0.00000000e+00],\n",
       "       [2.02578269e-02, 1.09523810e-01, 0.00000000e+00, ...,\n",
       "        0.00000000e+00, 0.00000000e+00, 1.00000000e+00],\n",
       "       ...,\n",
       "       [1.28913444e-02, 1.00000000e-01, 0.00000000e+00, ...,\n",
       "        0.00000000e+00, 0.00000000e+00, 1.00000000e+00],\n",
       "       [2.88520565e-02, 5.71428571e-02, 0.00000000e+00, ...,\n",
       "        0.00000000e+00, 1.11627917e-06, 1.00000000e+00],\n",
       "       [7.36648250e-03, 4.76190476e-03, 0.00000000e+00, ...,\n",
       "        0.00000000e+00, 1.25024198e-02, 1.00000000e+00]])"
      ]
     },
     "execution_count": 601,
     "metadata": {},
     "output_type": "execute_result"
    }
   ],
   "source": [
    "scaled_web_in"
   ]
  },
  {
   "cell_type": "code",
   "execution_count": null,
   "id": "eb63771f",
   "metadata": {},
   "outputs": [],
   "source": []
  },
  {
   "cell_type": "markdown",
   "id": "5a29d8f4",
   "metadata": {},
   "source": [
    "# Model Selection"
   ]
  },
  {
   "cell_type": "code",
   "execution_count": 602,
   "id": "438cacb7",
   "metadata": {},
   "outputs": [],
   "source": [
    "def model_train(model):\n",
    "    model.fit(scaled_web_in,web_out)\n",
    "    y_pred = model.predict(scaled_web_in)\n",
    "    return y_pred"
   ]
  },
  {
   "cell_type": "code",
   "execution_count": 699,
   "id": "84e5b915",
   "metadata": {},
   "outputs": [],
   "source": [
    "def model_metrics(y_pred,y):\n",
    "    print(confusion_matrix(y_pred,y))\n",
    "    print(\"Precision score: \",precision_score(y_pred,y))\n",
    "    print(\"Recall score: \",recall_score(y_pred,y))\n",
    "    print(\"f1 score: \",f1_score(y_pred,y))"
   ]
  },
  {
   "cell_type": "code",
   "execution_count": 604,
   "id": "5fa19edf",
   "metadata": {},
   "outputs": [],
   "source": [
    "def plot_precision_recall_vs_threshold(precisions, recalls, thresholds):\n",
    "    plt.plot(thresholds, precisions[:-1], color = \"blue\", label=\"Precision\")\n",
    "    plt.plot(thresholds, recalls[:-1], color = \"green\", label=\"Recall\")\n",
    "    plt.xlabel(\"Threshold\")\n",
    "    \n",
    "    plt.legend()"
   ]
  },
  {
   "cell_type": "code",
   "execution_count": 605,
   "id": "e6fd79b6",
   "metadata": {},
   "outputs": [],
   "source": [
    "def plot_precision_vs_recall(precisions, recalls,label = None):\n",
    "    plt.plot(recalls[:-1],precisions[:-1],label = label)\n",
    "    plt.xlim(0,1)\n",
    "    plt.ylim(0,1)\n",
    "    plt.ylabel(\"Precision\")\n",
    "    plt.xlabel(\"Recall\")\n",
    "    "
   ]
  },
  {
   "cell_type": "code",
   "execution_count": 655,
   "id": "96a8f944",
   "metadata": {},
   "outputs": [],
   "source": [
    "def plot_roc(fpr,tpr,label = None):\n",
    "    plt.plot(fpr,tpr,label = label)\n",
    "    plt.plot([0,1],[0,1],'y--')\n",
    "    plt.xlim(0,1)\n",
    "    plt.ylim(0,1)\n",
    "    plt.xlabel(\"False positive rate\")\n",
    "    plt.ylabel(\"True positive rate\")"
   ]
  },
  {
   "cell_type": "code",
   "execution_count": null,
   "id": "d798fbe5",
   "metadata": {},
   "outputs": [],
   "source": []
  },
  {
   "cell_type": "markdown",
   "id": "d7142024",
   "metadata": {},
   "source": [
    "### Logistic Regression"
   ]
  },
  {
   "cell_type": "code",
   "execution_count": 607,
   "id": "27ee45be",
   "metadata": {},
   "outputs": [
    {
     "data": {
      "text/plain": [
       "(array([0.01780233, 0.13809524, 0.        , 0.08695652, 0.04651163,\n",
       "        0.        , 0.        , 0.        , 0.        , 0.        ,\n",
       "        0.        , 0.        , 0.03225806, 0.        , 0.        ,\n",
       "        0.        , 0.        , 0.        , 0.        , 0.5       ,\n",
       "        0.        , 0.        , 0.        , 1.        , 0.        ,\n",
       "        0.        , 1.        , 0.02210775, 0.        , 0.04475768,\n",
       "        1.        ]),\n",
       " 0.0)"
      ]
     },
     "execution_count": 607,
     "metadata": {},
     "output_type": "execute_result"
    }
   ],
   "source": [
    "rand_val = scaled_web_in[0]\n",
    "rand_label = web_out[0]\n",
    "rand_val , rand_label"
   ]
  },
  {
   "cell_type": "code",
   "execution_count": 608,
   "id": "9d5e0081",
   "metadata": {},
   "outputs": [],
   "source": [
    "log_model = LogisticRegression()\n",
    "pred_log = model_train(log_model)"
   ]
  },
  {
   "cell_type": "code",
   "execution_count": 609,
   "id": "7c7d0e58",
   "metadata": {},
   "outputs": [
    {
     "data": {
      "text/plain": [
       "(array([[  1.77556668,   5.64665087,   1.26279708,   2.80396787,\n",
       "          -7.29506374,   2.74312726,   4.29044777,   1.20124789,\n",
       "           2.25752379,  -4.7910178 ,  -0.36607114,  -0.31424535,\n",
       "           2.62367447,   0.39008915,   1.33491884,  -0.75195257,\n",
       "           1.28974175,   0.06121053,  -3.01191748,  -3.17735309,\n",
       "          -0.71584399,   1.45600289,   0.37480529,   0.22722634,\n",
       "          -1.50827361,   1.43439902,  -0.36929788, -10.40580936,\n",
       "          -1.15222223,   0.59582984,   3.32974999]]),\n",
       " array([-1.90014487]))"
      ]
     },
     "execution_count": 609,
     "metadata": {},
     "output_type": "execute_result"
    }
   ],
   "source": [
    "log_model.coef_ , log_model.intercept_"
   ]
  },
  {
   "cell_type": "code",
   "execution_count": null,
   "id": "6d31114c",
   "metadata": {},
   "outputs": [],
   "source": []
  },
  {
   "cell_type": "code",
   "execution_count": 611,
   "id": "d45feb12",
   "metadata": {},
   "outputs": [
    {
     "data": {
      "text/plain": [
       "(array([[4010,  563],\n",
       "        [ 371, 4200]], dtype=int64),\n",
       " 0.8817971866470712,\n",
       " 0.9188361408882083,\n",
       " 0.8999357188772231)"
      ]
     },
     "execution_count": 611,
     "metadata": {},
     "output_type": "execute_result"
    }
   ],
   "source": [
    "model_metrics(web_out,pred_log)"
   ]
  },
  {
   "cell_type": "code",
   "execution_count": 612,
   "id": "52bfd0ee",
   "metadata": {},
   "outputs": [
    {
     "data": {
      "text/plain": [
       "array([1., 0., 1., ..., 1., 0., 1.])"
      ]
     },
     "execution_count": 612,
     "metadata": {},
     "output_type": "execute_result"
    }
   ],
   "source": [
    "log_scores = cross_val_predict(estimator = log_model,\n",
    "                            X = scaled_web_in,\n",
    "                            y = web_out,\n",
    "                            cv = 10\n",
    "                            )\n",
    "log_scores"
   ]
  },
  {
   "cell_type": "code",
   "execution_count": 613,
   "id": "4221374a",
   "metadata": {},
   "outputs": [
    {
     "data": {
      "text/plain": [
       "(array([[3998,  575],\n",
       "        [ 372, 4199]], dtype=int64),\n",
       " 0.8795559279430247,\n",
       " 0.918617370378473,\n",
       " 0.8986623863028357)"
      ]
     },
     "execution_count": 613,
     "metadata": {},
     "output_type": "execute_result"
    }
   ],
   "source": [
    "model_metrics(web_out,log_scores)"
   ]
  },
  {
   "cell_type": "code",
   "execution_count": null,
   "id": "153e0066",
   "metadata": {},
   "outputs": [],
   "source": []
  },
  {
   "cell_type": "code",
   "execution_count": 614,
   "id": "9e1cfb2f",
   "metadata": {},
   "outputs": [
    {
     "data": {
      "text/plain": [
       "array([ 0.28834324, -1.86132639,  2.23671917, ...,  2.30875636,\n",
       "       -1.10391006,  1.63615028])"
      ]
     },
     "execution_count": 614,
     "metadata": {},
     "output_type": "execute_result"
    }
   ],
   "source": [
    "log_scores_ = cross_val_predict(estimator = log_model,\n",
    "                            X = scaled_web_in,\n",
    "                            y = web_out,\n",
    "                            cv = 10,\n",
    "                            method = \"decision_function\"\n",
    "                            )\n",
    "log_scores_"
   ]
  },
  {
   "cell_type": "code",
   "execution_count": 754,
   "id": "76ac5e45",
   "metadata": {},
   "outputs": [],
   "source": [
    "precisions_log, recalls_log, thresholds = precision_recall_curve(web_out,log_scores_)"
   ]
  },
  {
   "cell_type": "code",
   "execution_count": 755,
   "id": "41e189ef",
   "metadata": {},
   "outputs": [
    {
     "data": {
      "image/png": "[encoded data removed]",
      "text/plain": [
       "<Figure size 432x288 with 1 Axes>"
      ]
     },
     "metadata": {
      "needs_background": "light"
     },
     "output_type": "display_data"
    }
   ],
   "source": [
    "plot_precision_recall_vs_threshold(precisions_log, recalls_log, thresholds)\n",
    "plt.show()\n"
   ]
  },
  {
   "cell_type": "code",
   "execution_count": null,
   "id": "e0a209bb",
   "metadata": {},
   "outputs": [],
   "source": [
    "\n"
   ]
  },
  {
   "cell_type": "code",
   "execution_count": null,
   "id": "5fcda3fb",
   "metadata": {},
   "outputs": [],
   "source": []
  },
  {
   "cell_type": "code",
   "execution_count": null,
   "id": "48a5d141",
   "metadata": {},
   "outputs": [],
   "source": []
  },
  {
   "cell_type": "markdown",
   "id": "7b6f287a",
   "metadata": {},
   "source": [
    "### Naive Bayes"
   ]
  },
  {
   "cell_type": "code",
   "execution_count": 617,
   "id": "a9dab91e",
   "metadata": {},
   "outputs": [],
   "source": [
    "naive_mod = GaussianNB()\n",
    "pred_naive = model_train(naive_mod)"
   ]
  },
  {
   "cell_type": "code",
   "execution_count": 618,
   "id": "d53cf349",
   "metadata": {},
   "outputs": [
    {
     "data": {
      "text/plain": [
       "(array([[4467,  106],\n",
       "        [3353, 1218]], dtype=int64),\n",
       " 0.9199395770392749,\n",
       " 0.2664624808575804,\n",
       " 0.41323155216284985)"
      ]
     },
     "execution_count": 618,
     "metadata": {},
     "output_type": "execute_result"
    }
   ],
   "source": [
    "model_metrics(web_out,pred_naive)"
   ]
  },
  {
   "cell_type": "code",
   "execution_count": 619,
   "id": "024b9701",
   "metadata": {},
   "outputs": [
    {
     "data": {
      "text/plain": [
       "array([0.])"
      ]
     },
     "execution_count": 619,
     "metadata": {},
     "output_type": "execute_result"
    }
   ],
   "source": [
    "naive_mod.predict([rand_val])"
   ]
  },
  {
   "cell_type": "code",
   "execution_count": 620,
   "id": "341d17a1",
   "metadata": {},
   "outputs": [
    {
     "data": {
      "text/plain": [
       "array([0., 0., 0., ..., 0., 0., 0.])"
      ]
     },
     "execution_count": 620,
     "metadata": {},
     "output_type": "execute_result"
    }
   ],
   "source": [
    "naive_scores = cross_val_predict(estimator = naive_mod,\n",
    "                            X = scaled_web_in,\n",
    "                            y = web_out,\n",
    "                            cv = 10\n",
    "                            )\n",
    "naive_scores"
   ]
  },
  {
   "cell_type": "code",
   "execution_count": 621,
   "id": "3e81f86f",
   "metadata": {},
   "outputs": [
    {
     "data": {
      "text/plain": [
       "(array([[4468,  105],\n",
       "        [3361, 1210]], dtype=int64),\n",
       " 0.9201520912547528,\n",
       " 0.2647123167796981,\n",
       " 0.41114509004417266)"
      ]
     },
     "execution_count": 621,
     "metadata": {},
     "output_type": "execute_result"
    }
   ],
   "source": [
    "model_metrics(web_out,naive_scores)"
   ]
  },
  {
   "cell_type": "code",
   "execution_count": 622,
   "id": "0456f868",
   "metadata": {},
   "outputs": [
    {
     "data": {
      "text/plain": [
       "array([[1.00000000e+00, 1.53848865e-16],\n",
       "       [1.00000000e+00, 1.94231767e-15],\n",
       "       [1.00000000e+00, 5.38370124e-16],\n",
       "       ...,\n",
       "       [1.00000000e+00, 6.15216286e-18],\n",
       "       [1.00000000e+00, 1.35410672e-74],\n",
       "       [1.00000000e+00, 2.20939410e-17]])"
      ]
     },
     "execution_count": 622,
     "metadata": {},
     "output_type": "execute_result"
    }
   ],
   "source": [
    "naive_scores_proba = cross_val_predict(estimator = naive_mod,\n",
    "                            X = scaled_web_in,\n",
    "                            y = web_out,\n",
    "                            cv = 10,\n",
    "                            method = \"predict_proba\"\n",
    "                            )\n",
    "naive_scores_proba"
   ]
  },
  {
   "cell_type": "code",
   "execution_count": 623,
   "id": "5c2664f2",
   "metadata": {},
   "outputs": [],
   "source": [
    "precision_naive, recall_naive, threshold = precision_recall_curve(web_out,naive_scores_proba[:,1])"
   ]
  },
  {
   "cell_type": "code",
   "execution_count": 624,
   "id": "a7c16ccf",
   "metadata": {},
   "outputs": [
    {
     "data": {
      "image/png": "[encoded data removed]",
      "text/plain": [
       "<Figure size 432x288 with 1 Axes>"
      ]
     },
     "metadata": {
      "needs_background": "light"
     },
     "output_type": "display_data"
    }
   ],
   "source": [
    "plot_precision_recall_vs_threshold(precision_naive,recall_naive,threshold)"
   ]
  },
  {
   "cell_type": "code",
   "execution_count": 625,
   "id": "92fe66c1",
   "metadata": {},
   "outputs": [],
   "source": [
    "fpr_naive, tpr_naive, thresholds = roc_curve(web_out,naive_scores_proba[:,1])"
   ]
  },
  {
   "cell_type": "code",
   "execution_count": null,
   "id": "c1c2e232",
   "metadata": {},
   "outputs": [],
   "source": []
  },
  {
   "cell_type": "markdown",
   "id": "079287a6",
   "metadata": {},
   "source": [
    "### Decision Tree"
   ]
  },
  {
   "cell_type": "code",
   "execution_count": 626,
   "id": "7e44b924",
   "metadata": {},
   "outputs": [],
   "source": [
    "tree_mod = DecisionTreeClassifier(criterion = \"entropy\")\n",
    "pred_tree = model_train(tree_mod)"
   ]
  },
  {
   "cell_type": "code",
   "execution_count": 627,
   "id": "4cdb352f",
   "metadata": {},
   "outputs": [
    {
     "data": {
      "text/plain": [
       "(array([[4572,    1],\n",
       "        [   0, 4571]], dtype=int64),\n",
       " 0.9997812773403325,\n",
       " 1.0,\n",
       " 0.9998906267089577)"
      ]
     },
     "execution_count": 627,
     "metadata": {},
     "output_type": "execute_result"
    }
   ],
   "source": [
    "model_metrics(web_out,pred_tree)"
   ]
  },
  {
   "cell_type": "code",
   "execution_count": 628,
   "id": "fccd8d40",
   "metadata": {},
   "outputs": [
    {
     "data": {
      "text/plain": [
       "array([1.])"
      ]
     },
     "execution_count": 628,
     "metadata": {},
     "output_type": "execute_result"
    }
   ],
   "source": [
    "tree_mod.predict([rand_val])"
   ]
  },
  {
   "cell_type": "code",
   "execution_count": 629,
   "id": "4230bfca",
   "metadata": {},
   "outputs": [
    {
     "data": {
      "text/plain": [
       "array([1., 0., 1., ..., 1., 0., 1.])"
      ]
     },
     "execution_count": 629,
     "metadata": {},
     "output_type": "execute_result"
    }
   ],
   "source": [
    "tree_scores = cross_val_predict(estimator = tree_mod,\n",
    "                            X = scaled_web_in,\n",
    "                            y = web_out,\n",
    "                            cv = 10\n",
    "                            )\n",
    "tree_scores"
   ]
  },
  {
   "cell_type": "code",
   "execution_count": 630,
   "id": "de10aab7",
   "metadata": {
    "scrolled": true
   },
   "outputs": [
    {
     "data": {
      "text/plain": [
       "(array([[4220,  353],\n",
       "        [ 351, 4220]], dtype=int64),\n",
       " 0.9228077848239667,\n",
       " 0.923211551082914,\n",
       " 0.9230096237970253)"
      ]
     },
     "execution_count": 630,
     "metadata": {},
     "output_type": "execute_result"
    }
   ],
   "source": [
    "model_metrics(web_out,tree_scores)"
   ]
  },
  {
   "cell_type": "code",
   "execution_count": 631,
   "id": "6904bf7a",
   "metadata": {},
   "outputs": [
    {
     "data": {
      "text/plain": [
       "array([[0., 1.],\n",
       "       [1., 0.],\n",
       "       [0., 1.],\n",
       "       ...,\n",
       "       [0., 1.],\n",
       "       [1., 0.],\n",
       "       [0., 1.]])"
      ]
     },
     "execution_count": 631,
     "metadata": {},
     "output_type": "execute_result"
    }
   ],
   "source": [
    "tree_scores_proba = cross_val_predict(estimator = tree_mod,\n",
    "                            X = scaled_web_in,\n",
    "                            y = web_out,\n",
    "                            cv = 10,\n",
    "                            method = \"predict_proba\"\n",
    "                            )\n",
    "tree_scores_proba\n"
   ]
  },
  {
   "cell_type": "code",
   "execution_count": 632,
   "id": "f09ff4b1",
   "metadata": {},
   "outputs": [],
   "source": [
    "precision_tree,recall_tree,threshold = precision_recall_curve(web_out,tree_scores_proba[:,1])"
   ]
  },
  {
   "cell_type": "code",
   "execution_count": 633,
   "id": "67451c95",
   "metadata": {},
   "outputs": [
    {
     "data": {
      "image/png": "[encoded data removed]",
      "text/plain": [
       "<Figure size 432x288 with 1 Axes>"
      ]
     },
     "metadata": {
      "needs_background": "light"
     },
     "output_type": "display_data"
    }
   ],
   "source": [
    "plot_precision_recall_vs_threshold(precision_tree,recall_tree,threshold)"
   ]
  },
  {
   "cell_type": "code",
   "execution_count": 634,
   "id": "1510a61e",
   "metadata": {},
   "outputs": [
    {
     "data": {
      "image/png": "[encoded data removed]",
      "text/plain": [
       "<Figure size 432x288 with 1 Axes>"
      ]
     },
     "metadata": {
      "needs_background": "light"
     },
     "output_type": "display_data"
    }
   ],
   "source": [
    "plot_precision_vs_recall(precision_tree,recall_tree)"
   ]
  },
  {
   "cell_type": "code",
   "execution_count": null,
   "id": "831a4027",
   "metadata": {},
   "outputs": [],
   "source": []
  },
  {
   "cell_type": "markdown",
   "id": "433022d9",
   "metadata": {},
   "source": [
    "### Random Forest"
   ]
  },
  {
   "cell_type": "code",
   "execution_count": 635,
   "id": "09610c3d",
   "metadata": {},
   "outputs": [],
   "source": [
    "rand_model = RandomForestClassifier(n_estimators = 150,\n",
    "                                   criterion = \"entropy\")\n",
    "pred_rand = model_train(rand_model)"
   ]
  },
  {
   "cell_type": "code",
   "execution_count": 636,
   "id": "1e4994ec",
   "metadata": {},
   "outputs": [
    {
     "data": {
      "text/plain": [
       "(array([[4572,    1],\n",
       "        [   0, 4571]], dtype=int64),\n",
       " 0.9997812773403325,\n",
       " 1.0,\n",
       " 0.9998906267089577)"
      ]
     },
     "execution_count": 636,
     "metadata": {},
     "output_type": "execute_result"
    }
   ],
   "source": [
    "model_metrics(web_out,pred_rand)"
   ]
  },
  {
   "cell_type": "code",
   "execution_count": 686,
   "id": "f529b17e",
   "metadata": {},
   "outputs": [
    {
     "data": {
      "text/plain": [
       "array([1., 0., 1., ..., 1., 0., 1.])"
      ]
     },
     "execution_count": 686,
     "metadata": {},
     "output_type": "execute_result"
    }
   ],
   "source": [
    "rand_scores = cross_val_predict(estimator = rand_model,\n",
    "                            X = scaled_web_in,\n",
    "                            y = web_out,\n",
    "                            cv = 10\n",
    "                            )\n",
    "rand_scores"
   ]
  },
  {
   "cell_type": "code",
   "execution_count": null,
   "id": "72ed8b42",
   "metadata": {},
   "outputs": [],
   "source": []
  },
  {
   "cell_type": "code",
   "execution_count": 687,
   "id": "343da667",
   "metadata": {},
   "outputs": [
    {
     "data": {
      "text/plain": [
       "(array([[4350,  223],\n",
       "        [ 241, 4330]], dtype=int64),\n",
       " 0.951021304634307,\n",
       " 0.9472763071537956,\n",
       " 0.949145111793073)"
      ]
     },
     "execution_count": 687,
     "metadata": {},
     "output_type": "execute_result"
    }
   ],
   "source": [
    "model_metrics(web_out,rand_scores)"
   ]
  },
  {
   "cell_type": "code",
   "execution_count": 688,
   "id": "e30e6e03",
   "metadata": {},
   "outputs": [
    {
     "data": {
      "text/plain": [
       "array([[0.23333333, 0.76666667],\n",
       "       [0.80666667, 0.19333333],\n",
       "       [0.00666667, 0.99333333],\n",
       "       ...,\n",
       "       [0.02      , 0.98      ],\n",
       "       [0.95333333, 0.04666667],\n",
       "       [0.04      , 0.96      ]])"
      ]
     },
     "execution_count": 688,
     "metadata": {},
     "output_type": "execute_result"
    }
   ],
   "source": [
    "rand_scores_proba = cross_val_predict(estimator = rand_model,\n",
    "                            X = scaled_web_in,\n",
    "                            y = web_out,\n",
    "                            cv = 10,\n",
    "                            method = \"predict_proba\"\n",
    "                            )\n",
    "rand_scores_proba"
   ]
  },
  {
   "cell_type": "code",
   "execution_count": 745,
   "id": "ed7cdb8d",
   "metadata": {},
   "outputs": [
    {
     "data": {
      "text/plain": [
       "(9144, 2)"
      ]
     },
     "execution_count": 745,
     "metadata": {},
     "output_type": "execute_result"
    }
   ],
   "source": [
    "rand_scores_proba.shape"
   ]
  },
  {
   "cell_type": "code",
   "execution_count": 689,
   "id": "82d05c80",
   "metadata": {},
   "outputs": [],
   "source": [
    "precision_rand, recall_rand, threshold = precision_recall_curve(web_out,rand_scores_proba[:,1])"
   ]
  },
  {
   "cell_type": "code",
   "execution_count": 690,
   "id": "2090ccf2",
   "metadata": {},
   "outputs": [
    {
     "data": {
      "image/png": "[encoded data removed]",
      "text/plain": [
       "<Figure size 432x288 with 1 Axes>"
      ]
     },
     "metadata": {
      "needs_background": "light"
     },
     "output_type": "display_data"
    }
   ],
   "source": [
    "plot_precision_recall_vs_threshold(precision_rand,recall_rand,threshold)"
   ]
  },
  {
   "cell_type": "code",
   "execution_count": null,
   "id": "300bfe6a",
   "metadata": {},
   "outputs": [],
   "source": []
  },
  {
   "cell_type": "code",
   "execution_count": null,
   "id": "34d6a22c",
   "metadata": {},
   "outputs": [],
   "source": []
  },
  {
   "cell_type": "markdown",
   "id": "8a052789",
   "metadata": {},
   "source": [
    "### SVM"
   ]
  },
  {
   "cell_type": "code",
   "execution_count": 642,
   "id": "0af6608d",
   "metadata": {},
   "outputs": [],
   "source": [
    "svm_model = SVC(kernel = \"linear\")\n",
    "pred_svm = model_train(svm_model)"
   ]
  },
  {
   "cell_type": "code",
   "execution_count": 643,
   "id": "8aa4bd25",
   "metadata": {},
   "outputs": [
    {
     "data": {
      "text/plain": [
       "(array([[3892,  681],\n",
       "        [ 367, 4204]], dtype=int64),\n",
       " 0.8605936540429887,\n",
       " 0.9197112229271495,\n",
       " 0.8891708967851101)"
      ]
     },
     "execution_count": 643,
     "metadata": {},
     "output_type": "execute_result"
    }
   ],
   "source": [
    "model_metrics(web_out,pred_svm)"
   ]
  },
  {
   "cell_type": "code",
   "execution_count": 644,
   "id": "3f8be70b",
   "metadata": {},
   "outputs": [
    {
     "data": {
      "text/plain": [
       "array([1., 0., 1., ..., 1., 0., 1.])"
      ]
     },
     "execution_count": 644,
     "metadata": {},
     "output_type": "execute_result"
    }
   ],
   "source": [
    "svm_scores = cross_val_predict(estimator = svm_model,\n",
    "                            X = scaled_web_in,\n",
    "                            y = web_out,\n",
    "                            cv = 10\n",
    "                            )\n",
    "svm_scores"
   ]
  },
  {
   "cell_type": "code",
   "execution_count": 645,
   "id": "ede5b25f",
   "metadata": {},
   "outputs": [
    {
     "data": {
      "text/plain": [
       "(array([[3875,  698],\n",
       "        [ 369, 4202]], dtype=int64),\n",
       " 0.8575510204081632,\n",
       " 0.9192736819076789,\n",
       " 0.8873403019744484)"
      ]
     },
     "execution_count": 645,
     "metadata": {},
     "output_type": "execute_result"
    }
   ],
   "source": [
    "model_metrics(web_out,svm_scores)"
   ]
  },
  {
   "cell_type": "code",
   "execution_count": 646,
   "id": "373e63ec",
   "metadata": {},
   "outputs": [
    {
     "data": {
      "text/plain": [
       "array([ 0.58999007, -0.93783342,  1.23936016, ...,  1.26608071,\n",
       "       -1.29883911,  0.90175814])"
      ]
     },
     "execution_count": 646,
     "metadata": {},
     "output_type": "execute_result"
    }
   ],
   "source": [
    "svm_scores_ = cross_val_predict(estimator = svm_model,\n",
    "                            X = scaled_web_in,\n",
    "                            y = web_out,\n",
    "                            cv = 10,\n",
    "                            method = \"decision_function\"\n",
    "                            )\n",
    "svm_scores_"
   ]
  },
  {
   "cell_type": "code",
   "execution_count": 647,
   "id": "27754185",
   "metadata": {},
   "outputs": [],
   "source": [
    "precisions_svm, recalls_svm, thresholds = precision_recall_curve(web_out,svm_scores_)"
   ]
  },
  {
   "cell_type": "code",
   "execution_count": 648,
   "id": "edbe29ce",
   "metadata": {},
   "outputs": [
    {
     "data": {
      "image/png": "[encoded data removed]",
      "text/plain": [
       "<Figure size 432x288 with 1 Axes>"
      ]
     },
     "metadata": {
      "needs_background": "light"
     },
     "output_type": "display_data"
    }
   ],
   "source": [
    "plot_precision_recall_vs_threshold(precisions_svm, recalls_svm, thresholds)\n",
    "plt.show()"
   ]
  },
  {
   "cell_type": "code",
   "execution_count": null,
   "id": "f4252f21",
   "metadata": {},
   "outputs": [],
   "source": []
  },
  {
   "cell_type": "markdown",
   "id": "9db817f8",
   "metadata": {},
   "source": [
    "### Comparing the models"
   ]
  },
  {
   "cell_type": "code",
   "execution_count": 649,
   "id": "cf77894e",
   "metadata": {},
   "outputs": [],
   "source": [
    "fpr_log, tpr_log, threshold = roc_curve(web_out,log_scores_)\n",
    "fpr_svm, tpr_svm, threshold = roc_curve(web_out,svm_scores_)\n",
    "fpr_tree, tpr_tree, threshold = roc_curve(web_out,tree_scores_proba[:,1])\n",
    "fpr_rand, tpr_rand, threshold = roc_curve(web_out,rand_scores_proba[:,1])\n",
    "fpr_naive, tpr_naive, threshold = roc_curve(web_out,naive_scores_proba[:,1])"
   ]
  },
  {
   "cell_type": "code",
   "execution_count": 654,
   "id": "b1905553",
   "metadata": {},
   "outputs": [
    {
     "data": {
      "text/plain": [
       "<matplotlib.legend.Legend at 0x20e2158d570>"
      ]
     },
     "execution_count": 654,
     "metadata": {},
     "output_type": "execute_result"
    },
    {
     "data": {
      "image/png": "[encoded data removed]",
      "text/plain": [
       "<Figure size 432x288 with 1 Axes>"
      ]
     },
     "metadata": {
      "needs_background": "light"
     },
     "output_type": "display_data"
    }
   ],
   "source": [
    "plot_precision_vs_recall(precisions_log,recalls_log,\"Logistic\")\n",
    "plot_precision_vs_recall(precisions_svm,recalls_svm,\"SVM\")\n",
    "plot_precision_vs_recall(precision_rand,recall_rand,\"Random forest\")\n",
    "plot_precision_vs_recall(precision_naive,recall_naive,\"Naive ayes\")\n",
    "\n",
    "plt.title(\"Precision vs Recall\")\n",
    "plt.legend(loc = \"lower left\")"
   ]
  },
  {
   "cell_type": "code",
   "execution_count": 656,
   "id": "3a31278f",
   "metadata": {},
   "outputs": [
    {
     "data": {
      "text/plain": [
       "<matplotlib.legend.Legend at 0x20e156fc670>"
      ]
     },
     "execution_count": 656,
     "metadata": {},
     "output_type": "execute_result"
    },
    {
     "data": {
      "image/png": "[encoded data removed]",
      "text/plain": [
       "<Figure size 432x288 with 1 Axes>"
      ]
     },
     "metadata": {
      "needs_background": "light"
     },
     "output_type": "display_data"
    }
   ],
   "source": [
    "plot_roc(fpr_log,tpr_log,\"Logistic\")\n",
    "plot_roc(fpr_svm,tpr_svm,\"Svm\")\n",
    "plot_roc(fpr_rand,tpr_rand,\"Random forest\")\n",
    "#plot_roc(fpr_tree,tpr_tree,\"decision tree\")\n",
    "plot_roc(fpr_naive,tpr_naive,\"Naive bayes\")\n",
    "\n",
    "plt.title(\"ROC Curve\")\n",
    "plt.legend()"
   ]
  },
  {
   "cell_type": "code",
   "execution_count": 652,
   "id": "dcfc3ce0",
   "metadata": {},
   "outputs": [
    {
     "name": "stdout",
     "output_type": "stream",
     "text": [
      "LOGISTIC :  0.9550709334554455 NAIVE :  0.9044700034439731 SVM :  0.956110057496985 RANDOM FOREST :  0.9872689006262827 0.9229680235780361\n"
     ]
    }
   ],
   "source": [
    "print(\"LOGISTIC : \",roc_auc_score(web_out,log_scores_),\"NAIVE : \",roc_auc_score(web_out,naive_scores_proba[:,1]),\"SVM : \",roc_auc_score(web_out,svm_scores_),\"RANDOM FOREST : \" ,roc_auc_score(web_out,rand_scores_proba[:,1]),roc_auc_score(web_out,tree_scores_proba[:,1]))"
   ]
  },
  {
   "cell_type": "code",
   "execution_count": null,
   "id": "572ff43c",
   "metadata": {},
   "outputs": [],
   "source": []
  },
  {
   "cell_type": "markdown",
   "id": "4176a915",
   "metadata": {},
   "source": [
    "# Fine tuning best model"
   ]
  },
  {
   "cell_type": "code",
   "execution_count": 666,
   "id": "88ad8692",
   "metadata": {},
   "outputs": [],
   "source": [
    "forest_param = [\n",
    "    {\"n_estimators\" : [3,30,150,200],\"criterion\":[\"gini\",\"entropy\"] },\n",
    "    {\"n_estimators\":[3,30,100],\"criterion\":[\"gini\",\"entropy\"],\"oob_score\":[True]}\n",
    "]\n",
    "\n",
    "svm_param = [\n",
    "    {\"kernel\": [\"linear\",\"rbf\",\"sigmoid\"]}\n",
    "]"
   ]
  },
  {
   "cell_type": "code",
   "execution_count": 667,
   "id": "cabd7e65",
   "metadata": {},
   "outputs": [],
   "source": [
    "forest_grid = GridSearchCV(estimator = rand_model,\n",
    "                          param_grid = forest_param,\n",
    "                          cv = 10)"
   ]
  },
  {
   "cell_type": "code",
   "execution_count": 668,
   "id": "0c71908f",
   "metadata": {},
   "outputs": [
    {
     "name": "stderr",
     "output_type": "stream",
     "text": [
      "C:\\Python3101\\lib\\site-packages\\sklearn\\ensemble\\_forest.py:560: UserWarning: Some inputs do not have OOB scores. This probably means too few trees were used to compute any reliable OOB estimates.\n",
      "  warn(\n",
      "C:\\Python3101\\lib\\site-packages\\sklearn\\ensemble\\_forest.py:560: UserWarning: Some inputs do not have OOB scores. This probably means too few trees were used to compute any reliable OOB estimates.\n",
      "  warn(\n",
      "C:\\Python3101\\lib\\site-packages\\sklearn\\ensemble\\_forest.py:560: UserWarning: Some inputs do not have OOB scores. This probably means too few trees were used to compute any reliable OOB estimates.\n",
      "  warn(\n",
      "C:\\Python3101\\lib\\site-packages\\sklearn\\ensemble\\_forest.py:560: UserWarning: Some inputs do not have OOB scores. This probably means too few trees were used to compute any reliable OOB estimates.\n",
      "  warn(\n",
      "C:\\Python3101\\lib\\site-packages\\sklearn\\ensemble\\_forest.py:560: UserWarning: Some inputs do not have OOB scores. This probably means too few trees were used to compute any reliable OOB estimates.\n",
      "  warn(\n",
      "C:\\Python3101\\lib\\site-packages\\sklearn\\ensemble\\_forest.py:560: UserWarning: Some inputs do not have OOB scores. This probably means too few trees were used to compute any reliable OOB estimates.\n",
      "  warn(\n",
      "C:\\Python3101\\lib\\site-packages\\sklearn\\ensemble\\_forest.py:560: UserWarning: Some inputs do not have OOB scores. This probably means too few trees were used to compute any reliable OOB estimates.\n",
      "  warn(\n",
      "C:\\Python3101\\lib\\site-packages\\sklearn\\ensemble\\_forest.py:560: UserWarning: Some inputs do not have OOB scores. This probably means too few trees were used to compute any reliable OOB estimates.\n",
      "  warn(\n",
      "C:\\Python3101\\lib\\site-packages\\sklearn\\ensemble\\_forest.py:560: UserWarning: Some inputs do not have OOB scores. This probably means too few trees were used to compute any reliable OOB estimates.\n",
      "  warn(\n",
      "C:\\Python3101\\lib\\site-packages\\sklearn\\ensemble\\_forest.py:560: UserWarning: Some inputs do not have OOB scores. This probably means too few trees were used to compute any reliable OOB estimates.\n",
      "  warn(\n",
      "C:\\Python3101\\lib\\site-packages\\sklearn\\ensemble\\_forest.py:560: UserWarning: Some inputs do not have OOB scores. This probably means too few trees were used to compute any reliable OOB estimates.\n",
      "  warn(\n",
      "C:\\Python3101\\lib\\site-packages\\sklearn\\ensemble\\_forest.py:560: UserWarning: Some inputs do not have OOB scores. This probably means too few trees were used to compute any reliable OOB estimates.\n",
      "  warn(\n",
      "C:\\Python3101\\lib\\site-packages\\sklearn\\ensemble\\_forest.py:560: UserWarning: Some inputs do not have OOB scores. This probably means too few trees were used to compute any reliable OOB estimates.\n",
      "  warn(\n",
      "C:\\Python3101\\lib\\site-packages\\sklearn\\ensemble\\_forest.py:560: UserWarning: Some inputs do not have OOB scores. This probably means too few trees were used to compute any reliable OOB estimates.\n",
      "  warn(\n",
      "C:\\Python3101\\lib\\site-packages\\sklearn\\ensemble\\_forest.py:560: UserWarning: Some inputs do not have OOB scores. This probably means too few trees were used to compute any reliable OOB estimates.\n",
      "  warn(\n",
      "C:\\Python3101\\lib\\site-packages\\sklearn\\ensemble\\_forest.py:560: UserWarning: Some inputs do not have OOB scores. This probably means too few trees were used to compute any reliable OOB estimates.\n",
      "  warn(\n",
      "C:\\Python3101\\lib\\site-packages\\sklearn\\ensemble\\_forest.py:560: UserWarning: Some inputs do not have OOB scores. This probably means too few trees were used to compute any reliable OOB estimates.\n",
      "  warn(\n",
      "C:\\Python3101\\lib\\site-packages\\sklearn\\ensemble\\_forest.py:560: UserWarning: Some inputs do not have OOB scores. This probably means too few trees were used to compute any reliable OOB estimates.\n",
      "  warn(\n",
      "C:\\Python3101\\lib\\site-packages\\sklearn\\ensemble\\_forest.py:560: UserWarning: Some inputs do not have OOB scores. This probably means too few trees were used to compute any reliable OOB estimates.\n",
      "  warn(\n",
      "C:\\Python3101\\lib\\site-packages\\sklearn\\ensemble\\_forest.py:560: UserWarning: Some inputs do not have OOB scores. This probably means too few trees were used to compute any reliable OOB estimates.\n",
      "  warn(\n"
     ]
    },
    {
     "data": {
      "text/plain": [
       "GridSearchCV(cv=10,\n",
       "             estimator=RandomForestClassifier(criterion='entropy',\n",
       "                                              n_estimators=150),\n",
       "             param_grid=[{'criterion': ['gini', 'entropy'],\n",
       "                          'n_estimators': [3, 30, 150, 200]},\n",
       "                         {'criterion': ['gini', 'entropy'],\n",
       "                          'n_estimators': [3, 30, 100], 'oob_score': [True]}])"
      ]
     },
     "execution_count": 668,
     "metadata": {},
     "output_type": "execute_result"
    }
   ],
   "source": [
    "forest_grid.fit(scaled_web_in,web_out)"
   ]
  },
  {
   "cell_type": "code",
   "execution_count": 669,
   "id": "e1644f52",
   "metadata": {},
   "outputs": [
    {
     "data": {
      "text/plain": [
       "(RandomForestClassifier(criterion='entropy', oob_score=True),\n",
       " 0.9498040200404155,\n",
       " {'criterion': 'entropy', 'n_estimators': 100, 'oob_score': True})"
      ]
     },
     "execution_count": 669,
     "metadata": {},
     "output_type": "execute_result"
    }
   ],
   "source": [
    "forest_grid.best_estimator_ , forest_grid.best_score_ , forest_grid.best_params_"
   ]
  },
  {
   "cell_type": "code",
   "execution_count": 670,
   "id": "ffef517c",
   "metadata": {},
   "outputs": [],
   "source": [
    "forest_results = forest_grid.cv_results_"
   ]
  },
  {
   "cell_type": "code",
   "execution_count": 677,
   "id": "f60387d2",
   "metadata": {
    "scrolled": true
   },
   "outputs": [
    {
     "name": "stdout",
     "output_type": "stream",
     "text": [
      "{'criterion': 'gini', 'n_estimators': 3} 0.9305544594707704\n",
      "{'criterion': 'gini', 'n_estimators': 30} 0.9475063074697182\n",
      "{'criterion': 'gini', 'n_estimators': 150} 0.9483809831282658\n",
      "{'criterion': 'gini', 'n_estimators': 200} 0.9491473257524122\n",
      "{'criterion': 'entropy', 'n_estimators': 3} 0.9309923353780297\n",
      "{'criterion': 'entropy', 'n_estimators': 30} 0.9473963004149178\n",
      "{'criterion': 'entropy', 'n_estimators': 150} 0.9498034221759873\n",
      "{'criterion': 'entropy', 'n_estimators': 200} 0.9478350133323767\n",
      "{'criterion': 'gini', 'n_estimators': 3, 'oob_score': True} 0.9318655761619496\n",
      "{'criterion': 'gini', 'n_estimators': 30, 'oob_score': True} 0.9464135308677404\n",
      "{'criterion': 'gini', 'n_estimators': 100, 'oob_score': True} 0.9483819397113511\n",
      "{'criterion': 'entropy', 'n_estimators': 3, 'oob_score': True} 0.9271670791931221\n",
      "{'criterion': 'entropy', 'n_estimators': 30, 'oob_score': True} 0.9459749375231672\n",
      "{'criterion': 'entropy', 'n_estimators': 100, 'oob_score': True} 0.9498040200404155\n"
     ]
    }
   ],
   "source": [
    "for params,mean_score in zip(forest_results[\"params\"],forest_results[\"mean_test_score\"]):\n",
    "    print(params,mean_score)"
   ]
  },
  {
   "cell_type": "code",
   "execution_count": null,
   "id": "4067ef36",
   "metadata": {},
   "outputs": [],
   "source": []
  },
  {
   "cell_type": "markdown",
   "id": "0d0cdc84",
   "metadata": {},
   "source": [
    "### Training best model"
   ]
  },
  {
   "cell_type": "code",
   "execution_count": 695,
   "id": "1d38e4ce",
   "metadata": {},
   "outputs": [],
   "source": [
    "best_model = forest_grid.best_estimator_\n",
    "predicted = model_train(best_model)"
   ]
  },
  {
   "cell_type": "code",
   "execution_count": 700,
   "id": "4a5daaa3",
   "metadata": {},
   "outputs": [
    {
     "name": "stdout",
     "output_type": "stream",
     "text": [
      "[[4571    2]\n",
      " [   0 4571]]\n",
      "Precision score:  0.999562650338946\n",
      "Recall score:  1.0\n",
      "f1 score:  0.9997812773403325\n"
     ]
    }
   ],
   "source": [
    "model_metrics(web_out,predicted)"
   ]
  },
  {
   "cell_type": "code",
   "execution_count": null,
   "id": "c7a9a5ef",
   "metadata": {},
   "outputs": [],
   "source": []
  },
  {
   "cell_type": "code",
   "execution_count": 766,
   "id": "302f56a1",
   "metadata": {},
   "outputs": [
    {
     "data": {
      "text/plain": [
       "array([[0.2       , 0.8       ],\n",
       "       [0.86      , 0.14      ],\n",
       "       [0.01067442, 0.98932558],\n",
       "       ...,\n",
       "       [0.01      , 0.99      ],\n",
       "       [0.99      , 0.01      ],\n",
       "       [0.03      , 0.97      ]])"
      ]
     },
     "execution_count": 766,
     "metadata": {},
     "output_type": "execute_result"
    }
   ],
   "source": [
    "best_scores_proba = cross_val_predict(estimator = best_model,\n",
    "                            X = scaled_web_in,\n",
    "                            y = web_out,\n",
    "                            cv = 10,\n",
    "                            method = \"predict_proba\"\n",
    "                            )\n",
    "best_scores_proba"
   ]
  },
  {
   "cell_type": "code",
   "execution_count": 767,
   "id": "d1ab5705",
   "metadata": {},
   "outputs": [],
   "source": [
    "best_precision, best_recall, threshold = precision_recall_curve(web_out,best_scores_proba[:,1])"
   ]
  },
  {
   "cell_type": "code",
   "execution_count": 768,
   "id": "ef3715f2",
   "metadata": {},
   "outputs": [
    {
     "data": {
      "image/png": "[encoded data removed]",
      "text/plain": [
       "<Figure size 432x288 with 1 Axes>"
      ]
     },
     "metadata": {
      "needs_background": "light"
     },
     "output_type": "display_data"
    }
   ],
   "source": [
    "plot_precision_recall_vs_threshold(best_precision,best_recall,threshold)"
   ]
  },
  {
   "cell_type": "code",
   "execution_count": 769,
   "id": "31f1e27f",
   "metadata": {},
   "outputs": [
    {
     "data": {
      "image/png": "[encoded data removed]",
      "text/plain": [
       "<Figure size 432x288 with 1 Axes>"
      ]
     },
     "metadata": {
      "needs_background": "light"
     },
     "output_type": "display_data"
    }
   ],
   "source": [
    "plot_precision_vs_recall(best_precision,best_recall)"
   ]
  },
  {
   "cell_type": "code",
   "execution_count": 770,
   "id": "9539df4a",
   "metadata": {},
   "outputs": [
    {
     "data": {
      "image/png": "[encoded data removed]",
      "text/plain": [
       "<Figure size 432x288 with 1 Axes>"
      ]
     },
     "metadata": {
      "needs_background": "light"
     },
     "output_type": "display_data"
    }
   ],
   "source": [
    "fpr,tpr,_ = roc_curve(web_out,best_scores_proba[:,1])\n",
    "plot_roc(fpr,tpr)"
   ]
  },
  {
   "cell_type": "code",
   "execution_count": null,
   "id": "5877b5a7",
   "metadata": {},
   "outputs": [],
   "source": []
  },
  {
   "cell_type": "code",
   "execution_count": null,
   "id": "6caac8d6",
   "metadata": {},
   "outputs": [],
   "source": []
  }
 ],
 "metadata": {
  "kernelspec": {
   "display_name": "Python 3 (ipykernel)",
   "language": "python",
   "name": "python3"
  },
  "language_info": {
   "codemirror_mode": {
    "name": "ipython",
    "version": 3
   },
   "file_extension": ".py",
   "mimetype": "text/x-python",
   "name": "python",
   "nbconvert_exporter": "python",
   "pygments_lexer": "ipython3",
   "version": "3.10.1"
  }
 },
 "nbformat": 4,
 "nbformat_minor": 5
}
